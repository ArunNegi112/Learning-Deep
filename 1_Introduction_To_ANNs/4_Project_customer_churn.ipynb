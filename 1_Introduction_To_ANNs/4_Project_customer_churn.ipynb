{
 "cells": [
  {
   "cell_type": "markdown",
   "id": "600ec1e8",
   "metadata": {},
   "source": [
    "### Customer Churn dataset\n",
    "Customer churn refers to phenomenon where customers discontinue their relationship with the company\n",
    "\n",
    "\n",
    "_In this notebook we will implement backpropagation of MLP to get an idea about __Backpropagation__ and then in next notebooks understand that deeply_"
   ]
  },
  {
   "cell_type": "markdown",
   "id": "069ea61d",
   "metadata": {},
   "source": [
    "Get the data:"
   ]
  },
  {
   "cell_type": "code",
   "execution_count": 118,
   "id": "9d0c7793",
   "metadata": {},
   "outputs": [
    {
     "name": "stdout",
     "output_type": "stream",
     "text": [
      "Path to dataset files: C:\\Users\\Arun\\.cache\\kagglehub\\datasets\\muhammadshahidazeem\\customer-churn-dataset\\versions\\1\n"
     ]
    }
   ],
   "source": [
    "import kagglehub\n",
    "import os\n",
    "import shutil\n",
    "\n",
    "# Download Customer churn dataset latest version\n",
    "# This will store dataset in \" C:\\Users\\Arun\\.cache\\kagglehub\\datasets\\muhammadshahidazeem\\customer-churn-dataset\\versions\\1\"\n",
    "path = kagglehub.dataset_download(\"muhammadshahidazeem/customer-churn-dataset\")\n",
    "\n",
    "print(\"Path to dataset files:\", path)\n",
    "\n",
    "my_path = r\"C:\\Users\\Arun\\Documents\\Documents\\Deep Learning\\1_Introduction_To_ANNs\\datasets\\customer_churn\"\n",
    "os.makedirs(my_path, exist_ok=True)\n",
    "\n",
    "for file_name in os.listdir(path):\n",
    "    src = os.path.join(path,file_name)\n",
    "    dst = os.path.join(my_path,file_name)\n",
    "    shutil.copy(src=src, dst=dst)"
   ]
  },
  {
   "cell_type": "code",
   "execution_count": 119,
   "id": "77f18576",
   "metadata": {},
   "outputs": [
    {
     "data": {
      "text/html": [
       "<div>\n",
       "<style scoped>\n",
       "    .dataframe tbody tr th:only-of-type {\n",
       "        vertical-align: middle;\n",
       "    }\n",
       "\n",
       "    .dataframe tbody tr th {\n",
       "        vertical-align: top;\n",
       "    }\n",
       "\n",
       "    .dataframe thead th {\n",
       "        text-align: right;\n",
       "    }\n",
       "</style>\n",
       "<table border=\"1\" class=\"dataframe\">\n",
       "  <thead>\n",
       "    <tr style=\"text-align: right;\">\n",
       "      <th></th>\n",
       "      <th>CustomerID</th>\n",
       "      <th>Age</th>\n",
       "      <th>Gender</th>\n",
       "      <th>Tenure</th>\n",
       "      <th>Usage Frequency</th>\n",
       "      <th>Support Calls</th>\n",
       "      <th>Payment Delay</th>\n",
       "      <th>Subscription Type</th>\n",
       "      <th>Contract Length</th>\n",
       "      <th>Total Spend</th>\n",
       "      <th>Last Interaction</th>\n",
       "      <th>Churn</th>\n",
       "    </tr>\n",
       "  </thead>\n",
       "  <tbody>\n",
       "    <tr>\n",
       "      <th>0</th>\n",
       "      <td>2.0</td>\n",
       "      <td>30.0</td>\n",
       "      <td>Female</td>\n",
       "      <td>39.0</td>\n",
       "      <td>14.0</td>\n",
       "      <td>5.0</td>\n",
       "      <td>18.0</td>\n",
       "      <td>Standard</td>\n",
       "      <td>Annual</td>\n",
       "      <td>932.0</td>\n",
       "      <td>17.0</td>\n",
       "      <td>1.0</td>\n",
       "    </tr>\n",
       "    <tr>\n",
       "      <th>1</th>\n",
       "      <td>3.0</td>\n",
       "      <td>65.0</td>\n",
       "      <td>Female</td>\n",
       "      <td>49.0</td>\n",
       "      <td>1.0</td>\n",
       "      <td>10.0</td>\n",
       "      <td>8.0</td>\n",
       "      <td>Basic</td>\n",
       "      <td>Monthly</td>\n",
       "      <td>557.0</td>\n",
       "      <td>6.0</td>\n",
       "      <td>1.0</td>\n",
       "    </tr>\n",
       "    <tr>\n",
       "      <th>2</th>\n",
       "      <td>4.0</td>\n",
       "      <td>55.0</td>\n",
       "      <td>Female</td>\n",
       "      <td>14.0</td>\n",
       "      <td>4.0</td>\n",
       "      <td>6.0</td>\n",
       "      <td>18.0</td>\n",
       "      <td>Basic</td>\n",
       "      <td>Quarterly</td>\n",
       "      <td>185.0</td>\n",
       "      <td>3.0</td>\n",
       "      <td>1.0</td>\n",
       "    </tr>\n",
       "    <tr>\n",
       "      <th>3</th>\n",
       "      <td>5.0</td>\n",
       "      <td>58.0</td>\n",
       "      <td>Male</td>\n",
       "      <td>38.0</td>\n",
       "      <td>21.0</td>\n",
       "      <td>7.0</td>\n",
       "      <td>7.0</td>\n",
       "      <td>Standard</td>\n",
       "      <td>Monthly</td>\n",
       "      <td>396.0</td>\n",
       "      <td>29.0</td>\n",
       "      <td>1.0</td>\n",
       "    </tr>\n",
       "    <tr>\n",
       "      <th>4</th>\n",
       "      <td>6.0</td>\n",
       "      <td>23.0</td>\n",
       "      <td>Male</td>\n",
       "      <td>32.0</td>\n",
       "      <td>20.0</td>\n",
       "      <td>5.0</td>\n",
       "      <td>8.0</td>\n",
       "      <td>Basic</td>\n",
       "      <td>Monthly</td>\n",
       "      <td>617.0</td>\n",
       "      <td>20.0</td>\n",
       "      <td>1.0</td>\n",
       "    </tr>\n",
       "  </tbody>\n",
       "</table>\n",
       "</div>"
      ],
      "text/plain": [
       "   CustomerID   Age  Gender  Tenure  Usage Frequency  Support Calls  \\\n",
       "0         2.0  30.0  Female    39.0             14.0            5.0   \n",
       "1         3.0  65.0  Female    49.0              1.0           10.0   \n",
       "2         4.0  55.0  Female    14.0              4.0            6.0   \n",
       "3         5.0  58.0    Male    38.0             21.0            7.0   \n",
       "4         6.0  23.0    Male    32.0             20.0            5.0   \n",
       "\n",
       "   Payment Delay Subscription Type Contract Length  Total Spend  \\\n",
       "0           18.0          Standard          Annual        932.0   \n",
       "1            8.0             Basic         Monthly        557.0   \n",
       "2           18.0             Basic       Quarterly        185.0   \n",
       "3            7.0          Standard         Monthly        396.0   \n",
       "4            8.0             Basic         Monthly        617.0   \n",
       "\n",
       "   Last Interaction  Churn  \n",
       "0              17.0    1.0  \n",
       "1               6.0    1.0  \n",
       "2               3.0    1.0  \n",
       "3              29.0    1.0  \n",
       "4              20.0    1.0  "
      ]
     },
     "execution_count": 119,
     "metadata": {},
     "output_type": "execute_result"
    }
   ],
   "source": [
    "import pandas as pd\n",
    "data = pd.read_csv(r\"datasets\\customer_churn\\customer_churn_dataset-training-master.csv\")\n",
    "data.head()"
   ]
  },
  {
   "cell_type": "markdown",
   "id": "9c4d3efa",
   "metadata": {},
   "source": [
    "_Getting info:_"
   ]
  },
  {
   "cell_type": "code",
   "execution_count": 120,
   "id": "b4d735be",
   "metadata": {},
   "outputs": [
    {
     "name": "stdout",
     "output_type": "stream",
     "text": [
      "<class 'pandas.core.frame.DataFrame'>\n",
      "RangeIndex: 440833 entries, 0 to 440832\n",
      "Data columns (total 12 columns):\n",
      " #   Column             Non-Null Count   Dtype  \n",
      "---  ------             --------------   -----  \n",
      " 0   CustomerID         440832 non-null  float64\n",
      " 1   Age                440832 non-null  float64\n",
      " 2   Gender             440832 non-null  object \n",
      " 3   Tenure             440832 non-null  float64\n",
      " 4   Usage Frequency    440832 non-null  float64\n",
      " 5   Support Calls      440832 non-null  float64\n",
      " 6   Payment Delay      440832 non-null  float64\n",
      " 7   Subscription Type  440832 non-null  object \n",
      " 8   Contract Length    440832 non-null  object \n",
      " 9   Total Spend        440832 non-null  float64\n",
      " 10  Last Interaction   440832 non-null  float64\n",
      " 11  Churn              440832 non-null  float64\n",
      "dtypes: float64(9), object(3)\n",
      "memory usage: 40.4+ MB\n"
     ]
    }
   ],
   "source": [
    "data.info()"
   ]
  },
  {
   "cell_type": "markdown",
   "id": "b698b061",
   "metadata": {},
   "source": [
    "_Using describe method:_"
   ]
  },
  {
   "cell_type": "code",
   "execution_count": 121,
   "id": "0658e4e2",
   "metadata": {},
   "outputs": [
    {
     "data": {
      "text/html": [
       "<div>\n",
       "<style scoped>\n",
       "    .dataframe tbody tr th:only-of-type {\n",
       "        vertical-align: middle;\n",
       "    }\n",
       "\n",
       "    .dataframe tbody tr th {\n",
       "        vertical-align: top;\n",
       "    }\n",
       "\n",
       "    .dataframe thead th {\n",
       "        text-align: right;\n",
       "    }\n",
       "</style>\n",
       "<table border=\"1\" class=\"dataframe\">\n",
       "  <thead>\n",
       "    <tr style=\"text-align: right;\">\n",
       "      <th></th>\n",
       "      <th>CustomerID</th>\n",
       "      <th>Age</th>\n",
       "      <th>Tenure</th>\n",
       "      <th>Usage Frequency</th>\n",
       "      <th>Support Calls</th>\n",
       "      <th>Payment Delay</th>\n",
       "      <th>Total Spend</th>\n",
       "      <th>Last Interaction</th>\n",
       "      <th>Churn</th>\n",
       "    </tr>\n",
       "  </thead>\n",
       "  <tbody>\n",
       "    <tr>\n",
       "      <th>count</th>\n",
       "      <td>440832.000000</td>\n",
       "      <td>440832.000000</td>\n",
       "      <td>440832.000000</td>\n",
       "      <td>440832.000000</td>\n",
       "      <td>440832.000000</td>\n",
       "      <td>440832.000000</td>\n",
       "      <td>440832.000000</td>\n",
       "      <td>440832.000000</td>\n",
       "      <td>440832.000000</td>\n",
       "    </tr>\n",
       "    <tr>\n",
       "      <th>mean</th>\n",
       "      <td>225398.667955</td>\n",
       "      <td>39.373153</td>\n",
       "      <td>31.256336</td>\n",
       "      <td>15.807494</td>\n",
       "      <td>3.604437</td>\n",
       "      <td>12.965722</td>\n",
       "      <td>631.616223</td>\n",
       "      <td>14.480868</td>\n",
       "      <td>0.567107</td>\n",
       "    </tr>\n",
       "    <tr>\n",
       "      <th>std</th>\n",
       "      <td>129531.918550</td>\n",
       "      <td>12.442369</td>\n",
       "      <td>17.255727</td>\n",
       "      <td>8.586242</td>\n",
       "      <td>3.070218</td>\n",
       "      <td>8.258063</td>\n",
       "      <td>240.803001</td>\n",
       "      <td>8.596208</td>\n",
       "      <td>0.495477</td>\n",
       "    </tr>\n",
       "    <tr>\n",
       "      <th>min</th>\n",
       "      <td>2.000000</td>\n",
       "      <td>18.000000</td>\n",
       "      <td>1.000000</td>\n",
       "      <td>1.000000</td>\n",
       "      <td>0.000000</td>\n",
       "      <td>0.000000</td>\n",
       "      <td>100.000000</td>\n",
       "      <td>1.000000</td>\n",
       "      <td>0.000000</td>\n",
       "    </tr>\n",
       "    <tr>\n",
       "      <th>25%</th>\n",
       "      <td>113621.750000</td>\n",
       "      <td>29.000000</td>\n",
       "      <td>16.000000</td>\n",
       "      <td>9.000000</td>\n",
       "      <td>1.000000</td>\n",
       "      <td>6.000000</td>\n",
       "      <td>480.000000</td>\n",
       "      <td>7.000000</td>\n",
       "      <td>0.000000</td>\n",
       "    </tr>\n",
       "    <tr>\n",
       "      <th>50%</th>\n",
       "      <td>226125.500000</td>\n",
       "      <td>39.000000</td>\n",
       "      <td>32.000000</td>\n",
       "      <td>16.000000</td>\n",
       "      <td>3.000000</td>\n",
       "      <td>12.000000</td>\n",
       "      <td>661.000000</td>\n",
       "      <td>14.000000</td>\n",
       "      <td>1.000000</td>\n",
       "    </tr>\n",
       "    <tr>\n",
       "      <th>75%</th>\n",
       "      <td>337739.250000</td>\n",
       "      <td>48.000000</td>\n",
       "      <td>46.000000</td>\n",
       "      <td>23.000000</td>\n",
       "      <td>6.000000</td>\n",
       "      <td>19.000000</td>\n",
       "      <td>830.000000</td>\n",
       "      <td>22.000000</td>\n",
       "      <td>1.000000</td>\n",
       "    </tr>\n",
       "    <tr>\n",
       "      <th>max</th>\n",
       "      <td>449999.000000</td>\n",
       "      <td>65.000000</td>\n",
       "      <td>60.000000</td>\n",
       "      <td>30.000000</td>\n",
       "      <td>10.000000</td>\n",
       "      <td>30.000000</td>\n",
       "      <td>1000.000000</td>\n",
       "      <td>30.000000</td>\n",
       "      <td>1.000000</td>\n",
       "    </tr>\n",
       "  </tbody>\n",
       "</table>\n",
       "</div>"
      ],
      "text/plain": [
       "          CustomerID            Age         Tenure  Usage Frequency  \\\n",
       "count  440832.000000  440832.000000  440832.000000    440832.000000   \n",
       "mean   225398.667955      39.373153      31.256336        15.807494   \n",
       "std    129531.918550      12.442369      17.255727         8.586242   \n",
       "min         2.000000      18.000000       1.000000         1.000000   \n",
       "25%    113621.750000      29.000000      16.000000         9.000000   \n",
       "50%    226125.500000      39.000000      32.000000        16.000000   \n",
       "75%    337739.250000      48.000000      46.000000        23.000000   \n",
       "max    449999.000000      65.000000      60.000000        30.000000   \n",
       "\n",
       "       Support Calls  Payment Delay    Total Spend  Last Interaction  \\\n",
       "count  440832.000000  440832.000000  440832.000000     440832.000000   \n",
       "mean        3.604437      12.965722     631.616223         14.480868   \n",
       "std         3.070218       8.258063     240.803001          8.596208   \n",
       "min         0.000000       0.000000     100.000000          1.000000   \n",
       "25%         1.000000       6.000000     480.000000          7.000000   \n",
       "50%         3.000000      12.000000     661.000000         14.000000   \n",
       "75%         6.000000      19.000000     830.000000         22.000000   \n",
       "max        10.000000      30.000000    1000.000000         30.000000   \n",
       "\n",
       "               Churn  \n",
       "count  440832.000000  \n",
       "mean        0.567107  \n",
       "std         0.495477  \n",
       "min         0.000000  \n",
       "25%         0.000000  \n",
       "50%         1.000000  \n",
       "75%         1.000000  \n",
       "max         1.000000  "
      ]
     },
     "execution_count": 121,
     "metadata": {},
     "output_type": "execute_result"
    }
   ],
   "source": [
    "data.describe()"
   ]
  },
  {
   "cell_type": "markdown",
   "id": "93208f7e",
   "metadata": {},
   "source": [
    "_Check lables:_"
   ]
  },
  {
   "cell_type": "code",
   "execution_count": 122,
   "id": "527223f3",
   "metadata": {},
   "outputs": [
    {
     "name": "stdout",
     "output_type": "stream",
     "text": [
      "Lables to classify: [ 1.  0. nan]\n"
     ]
    }
   ],
   "source": [
    "print(\"Lables to classify:\", data['Churn'].unique())"
   ]
  },
  {
   "cell_type": "markdown",
   "id": "d2c5a51c",
   "metadata": {},
   "source": [
    "_Drop null value:_"
   ]
  },
  {
   "cell_type": "code",
   "execution_count": 123,
   "id": "f0d065bf",
   "metadata": {},
   "outputs": [
    {
     "data": {
      "text/html": [
       "<div>\n",
       "<style scoped>\n",
       "    .dataframe tbody tr th:only-of-type {\n",
       "        vertical-align: middle;\n",
       "    }\n",
       "\n",
       "    .dataframe tbody tr th {\n",
       "        vertical-align: top;\n",
       "    }\n",
       "\n",
       "    .dataframe thead th {\n",
       "        text-align: right;\n",
       "    }\n",
       "</style>\n",
       "<table border=\"1\" class=\"dataframe\">\n",
       "  <thead>\n",
       "    <tr style=\"text-align: right;\">\n",
       "      <th></th>\n",
       "      <th>CustomerID</th>\n",
       "      <th>Age</th>\n",
       "      <th>Gender</th>\n",
       "      <th>Tenure</th>\n",
       "      <th>Usage Frequency</th>\n",
       "      <th>Support Calls</th>\n",
       "      <th>Payment Delay</th>\n",
       "      <th>Subscription Type</th>\n",
       "      <th>Contract Length</th>\n",
       "      <th>Total Spend</th>\n",
       "      <th>Last Interaction</th>\n",
       "      <th>Churn</th>\n",
       "    </tr>\n",
       "  </thead>\n",
       "  <tbody>\n",
       "    <tr>\n",
       "      <th>199295</th>\n",
       "      <td>NaN</td>\n",
       "      <td>NaN</td>\n",
       "      <td>NaN</td>\n",
       "      <td>NaN</td>\n",
       "      <td>NaN</td>\n",
       "      <td>NaN</td>\n",
       "      <td>NaN</td>\n",
       "      <td>NaN</td>\n",
       "      <td>NaN</td>\n",
       "      <td>NaN</td>\n",
       "      <td>NaN</td>\n",
       "      <td>NaN</td>\n",
       "    </tr>\n",
       "  </tbody>\n",
       "</table>\n",
       "</div>"
      ],
      "text/plain": [
       "        CustomerID  Age Gender  Tenure  Usage Frequency  Support Calls  \\\n",
       "199295         NaN  NaN    NaN     NaN              NaN            NaN   \n",
       "\n",
       "        Payment Delay Subscription Type Contract Length  Total Spend  \\\n",
       "199295            NaN               NaN             NaN          NaN   \n",
       "\n",
       "        Last Interaction  Churn  \n",
       "199295               NaN    NaN  "
      ]
     },
     "execution_count": 123,
     "metadata": {},
     "output_type": "execute_result"
    }
   ],
   "source": [
    "data[data.isna().any(axis=1)]"
   ]
  },
  {
   "cell_type": "code",
   "execution_count": 124,
   "id": "c49d7b89",
   "metadata": {},
   "outputs": [],
   "source": [
    "data.drop(199295,axis=0,inplace=True)"
   ]
  },
  {
   "cell_type": "markdown",
   "id": "b3232ed9",
   "metadata": {},
   "source": [
    "_drop 'CustomerID' too, its of no use_"
   ]
  },
  {
   "cell_type": "code",
   "execution_count": 126,
   "id": "60052213",
   "metadata": {},
   "outputs": [],
   "source": [
    "data.drop('CustomerID',axis=1,inplace=True)"
   ]
  },
  {
   "cell_type": "markdown",
   "id": "7612b1e6",
   "metadata": {},
   "source": [
    "_This is a big data we will use a portion of it:_"
   ]
  },
  {
   "cell_type": "code",
   "execution_count": 128,
   "id": "cc7f1914",
   "metadata": {},
   "outputs": [],
   "source": [
    "# separate X,y\n",
    "X = data.iloc[:,:-1]\n",
    "y = data['Churn']"
   ]
  },
  {
   "cell_type": "code",
   "execution_count": 156,
   "id": "ab9b567f",
   "metadata": {},
   "outputs": [],
   "source": [
    "from sklearn.model_selection import train_test_split\n",
    "import numpy as np\n",
    "X_train, X_remove, y_train, y_remove = train_test_split(X,y,train_size=0.03,shuffle=True,stratify=y)"
   ]
  },
  {
   "cell_type": "markdown",
   "id": "db29d2b8",
   "metadata": {},
   "source": [
    "_Correlation:_"
   ]
  },
  {
   "cell_type": "code",
   "execution_count": 132,
   "id": "65b895dd",
   "metadata": {},
   "outputs": [
    {
     "data": {
      "text/plain": [
       "Churn               1.000000\n",
       "Support Calls       0.574267\n",
       "Payment Delay       0.312129\n",
       "Age                 0.218394\n",
       "Last Interaction    0.149616\n",
       "Usage Frequency    -0.046101\n",
       "Tenure             -0.051919\n",
       "Total Spend        -0.429355\n",
       "Name: Churn, dtype: float64"
      ]
     },
     "execution_count": 132,
     "metadata": {},
     "output_type": "execute_result"
    }
   ],
   "source": [
    "## Feature importances/ Correlation\n",
    "numerical_features = ['Age','Tenure','Usage Frequency','Support Calls','Payment Delay','Total Spend','Last Interaction','Churn']\n",
    "corr_mat = data[numerical_features].corr()['Churn']\n",
    "corr_mat.sort_values(ascending=False)"
   ]
  },
  {
   "cell_type": "markdown",
   "id": "40eec014",
   "metadata": {},
   "source": [
    "_Data Preparation_:\n",
    "- Scaling and Encoding"
   ]
  },
  {
   "cell_type": "code",
   "execution_count": 133,
   "id": "9db52c8c",
   "metadata": {},
   "outputs": [
    {
     "name": "stdout",
     "output_type": "stream",
     "text": [
      "Index(['Age', 'Gender', 'Tenure', 'Usage Frequency', 'Support Calls',\n",
      "       'Payment Delay', 'Subscription Type', 'Contract Length', 'Total Spend',\n",
      "       'Last Interaction'],\n",
      "      dtype='object')\n"
     ]
    }
   ],
   "source": [
    "print(X_train.columns)"
   ]
  },
  {
   "cell_type": "code",
   "execution_count": 138,
   "id": "59ae10d1",
   "metadata": {},
   "outputs": [],
   "source": [
    "from sklearn.compose import ColumnTransformer\n",
    "from sklearn.preprocessing import OneHotEncoder, StandardScaler\n",
    "\n",
    "numerical_cols = ['Age','Tenure','Usage Frequency','Support Calls','Payment Delay','Total Spend','Last Interaction']\n",
    "categorical_cols = ['Gender','Subscription Type','Contract Length']\n",
    "\n",
    "prep_pipe = ColumnTransformer([\n",
    "    ('scaler',StandardScaler(),numerical_cols),\n",
    "    ('ohe',OneHotEncoder(),categorical_cols)\n",
    "])\n",
    "\n",
    "X_train_prepared = prep_pipe.fit_transform(X_train)"
   ]
  },
  {
   "cell_type": "code",
   "execution_count": 140,
   "id": "976f9c88",
   "metadata": {},
   "outputs": [
    {
     "data": {
      "text/html": [
       "<div>\n",
       "<style scoped>\n",
       "    .dataframe tbody tr th:only-of-type {\n",
       "        vertical-align: middle;\n",
       "    }\n",
       "\n",
       "    .dataframe tbody tr th {\n",
       "        vertical-align: top;\n",
       "    }\n",
       "\n",
       "    .dataframe thead th {\n",
       "        text-align: right;\n",
       "    }\n",
       "</style>\n",
       "<table border=\"1\" class=\"dataframe\">\n",
       "  <thead>\n",
       "    <tr style=\"text-align: right;\">\n",
       "      <th></th>\n",
       "      <th>Age</th>\n",
       "      <th>Tenure</th>\n",
       "      <th>Usage Frequency</th>\n",
       "      <th>Support Calls</th>\n",
       "      <th>Payment Delay</th>\n",
       "      <th>Total Spend</th>\n",
       "      <th>Last Interaction</th>\n",
       "      <th>Gender_Female</th>\n",
       "      <th>Gender_Male</th>\n",
       "      <th>Subscription Type_Basic</th>\n",
       "      <th>Subscription Type_Premium</th>\n",
       "      <th>Subscription Type_Standard</th>\n",
       "      <th>Contract Length_Annual</th>\n",
       "      <th>Contract Length_Monthly</th>\n",
       "      <th>Contract Length_Quarterly</th>\n",
       "    </tr>\n",
       "  </thead>\n",
       "  <tbody>\n",
       "    <tr>\n",
       "      <th>0</th>\n",
       "      <td>0.383276</td>\n",
       "      <td>-1.701330</td>\n",
       "      <td>-1.715750</td>\n",
       "      <td>-0.515331</td>\n",
       "      <td>-1.334050</td>\n",
       "      <td>-2.070395</td>\n",
       "      <td>1.793230</td>\n",
       "      <td>1.0</td>\n",
       "      <td>0.0</td>\n",
       "      <td>1.0</td>\n",
       "      <td>0.0</td>\n",
       "      <td>0.0</td>\n",
       "      <td>1.0</td>\n",
       "      <td>0.0</td>\n",
       "      <td>0.0</td>\n",
       "    </tr>\n",
       "    <tr>\n",
       "      <th>1</th>\n",
       "      <td>-0.018312</td>\n",
       "      <td>-1.585217</td>\n",
       "      <td>0.024201</td>\n",
       "      <td>-0.841817</td>\n",
       "      <td>-0.246547</td>\n",
       "      <td>0.090399</td>\n",
       "      <td>1.096548</td>\n",
       "      <td>0.0</td>\n",
       "      <td>1.0</td>\n",
       "      <td>0.0</td>\n",
       "      <td>0.0</td>\n",
       "      <td>1.0</td>\n",
       "      <td>0.0</td>\n",
       "      <td>0.0</td>\n",
       "      <td>1.0</td>\n",
       "    </tr>\n",
       "    <tr>\n",
       "      <th>2</th>\n",
       "      <td>1.828992</td>\n",
       "      <td>1.607888</td>\n",
       "      <td>0.024201</td>\n",
       "      <td>-0.188845</td>\n",
       "      <td>-1.092383</td>\n",
       "      <td>-2.203186</td>\n",
       "      <td>1.096548</td>\n",
       "      <td>1.0</td>\n",
       "      <td>0.0</td>\n",
       "      <td>1.0</td>\n",
       "      <td>0.0</td>\n",
       "      <td>0.0</td>\n",
       "      <td>0.0</td>\n",
       "      <td>1.0</td>\n",
       "      <td>0.0</td>\n",
       "    </tr>\n",
       "    <tr>\n",
       "      <th>3</th>\n",
       "      <td>0.784864</td>\n",
       "      <td>1.143436</td>\n",
       "      <td>-0.787776</td>\n",
       "      <td>-0.188845</td>\n",
       "      <td>-1.575718</td>\n",
       "      <td>-1.731983</td>\n",
       "      <td>-0.877386</td>\n",
       "      <td>1.0</td>\n",
       "      <td>0.0</td>\n",
       "      <td>0.0</td>\n",
       "      <td>1.0</td>\n",
       "      <td>0.0</td>\n",
       "      <td>1.0</td>\n",
       "      <td>0.0</td>\n",
       "      <td>0.0</td>\n",
       "    </tr>\n",
       "    <tr>\n",
       "      <th>4</th>\n",
       "      <td>-0.098630</td>\n",
       "      <td>0.446759</td>\n",
       "      <td>0.836178</td>\n",
       "      <td>2.096556</td>\n",
       "      <td>-0.246547</td>\n",
       "      <td>0.372290</td>\n",
       "      <td>1.677117</td>\n",
       "      <td>0.0</td>\n",
       "      <td>1.0</td>\n",
       "      <td>0.0</td>\n",
       "      <td>1.0</td>\n",
       "      <td>0.0</td>\n",
       "      <td>0.0</td>\n",
       "      <td>0.0</td>\n",
       "      <td>1.0</td>\n",
       "    </tr>\n",
       "    <tr>\n",
       "      <th>...</th>\n",
       "      <td>...</td>\n",
       "      <td>...</td>\n",
       "      <td>...</td>\n",
       "      <td>...</td>\n",
       "      <td>...</td>\n",
       "      <td>...</td>\n",
       "      <td>...</td>\n",
       "      <td>...</td>\n",
       "      <td>...</td>\n",
       "      <td>...</td>\n",
       "      <td>...</td>\n",
       "      <td>...</td>\n",
       "      <td>...</td>\n",
       "      <td>...</td>\n",
       "      <td>...</td>\n",
       "    </tr>\n",
       "    <tr>\n",
       "      <th>13219</th>\n",
       "      <td>-1.062440</td>\n",
       "      <td>-0.714370</td>\n",
       "      <td>0.488188</td>\n",
       "      <td>-1.168303</td>\n",
       "      <td>-0.971549</td>\n",
       "      <td>0.154467</td>\n",
       "      <td>0.283752</td>\n",
       "      <td>0.0</td>\n",
       "      <td>1.0</td>\n",
       "      <td>0.0</td>\n",
       "      <td>1.0</td>\n",
       "      <td>0.0</td>\n",
       "      <td>0.0</td>\n",
       "      <td>0.0</td>\n",
       "      <td>1.0</td>\n",
       "    </tr>\n",
       "    <tr>\n",
       "      <th>13220</th>\n",
       "      <td>-0.660852</td>\n",
       "      <td>-1.352991</td>\n",
       "      <td>-1.483757</td>\n",
       "      <td>-0.841817</td>\n",
       "      <td>-0.125713</td>\n",
       "      <td>-0.363027</td>\n",
       "      <td>-1.225727</td>\n",
       "      <td>1.0</td>\n",
       "      <td>0.0</td>\n",
       "      <td>0.0</td>\n",
       "      <td>1.0</td>\n",
       "      <td>0.0</td>\n",
       "      <td>0.0</td>\n",
       "      <td>0.0</td>\n",
       "      <td>1.0</td>\n",
       "    </tr>\n",
       "    <tr>\n",
       "      <th>13221</th>\n",
       "      <td>-0.580535</td>\n",
       "      <td>1.607888</td>\n",
       "      <td>-0.091796</td>\n",
       "      <td>-0.188845</td>\n",
       "      <td>0.478456</td>\n",
       "      <td>0.031571</td>\n",
       "      <td>-1.341841</td>\n",
       "      <td>0.0</td>\n",
       "      <td>1.0</td>\n",
       "      <td>0.0</td>\n",
       "      <td>0.0</td>\n",
       "      <td>1.0</td>\n",
       "      <td>1.0</td>\n",
       "      <td>0.0</td>\n",
       "      <td>0.0</td>\n",
       "    </tr>\n",
       "    <tr>\n",
       "      <th>13222</th>\n",
       "      <td>-1.062440</td>\n",
       "      <td>-0.656314</td>\n",
       "      <td>-1.483757</td>\n",
       "      <td>-1.168303</td>\n",
       "      <td>0.478456</td>\n",
       "      <td>1.166561</td>\n",
       "      <td>-1.574068</td>\n",
       "      <td>0.0</td>\n",
       "      <td>1.0</td>\n",
       "      <td>1.0</td>\n",
       "      <td>0.0</td>\n",
       "      <td>0.0</td>\n",
       "      <td>1.0</td>\n",
       "      <td>0.0</td>\n",
       "      <td>0.0</td>\n",
       "    </tr>\n",
       "    <tr>\n",
       "      <th>13223</th>\n",
       "      <td>0.784864</td>\n",
       "      <td>-0.307975</td>\n",
       "      <td>-0.555783</td>\n",
       "      <td>-0.841817</td>\n",
       "      <td>-0.367381</td>\n",
       "      <td>0.515144</td>\n",
       "      <td>-0.529045</td>\n",
       "      <td>0.0</td>\n",
       "      <td>1.0</td>\n",
       "      <td>0.0</td>\n",
       "      <td>0.0</td>\n",
       "      <td>1.0</td>\n",
       "      <td>1.0</td>\n",
       "      <td>0.0</td>\n",
       "      <td>0.0</td>\n",
       "    </tr>\n",
       "  </tbody>\n",
       "</table>\n",
       "<p>13224 rows × 15 columns</p>\n",
       "</div>"
      ],
      "text/plain": [
       "            Age    Tenure  Usage Frequency  Support Calls  Payment Delay  \\\n",
       "0      0.383276 -1.701330        -1.715750      -0.515331      -1.334050   \n",
       "1     -0.018312 -1.585217         0.024201      -0.841817      -0.246547   \n",
       "2      1.828992  1.607888         0.024201      -0.188845      -1.092383   \n",
       "3      0.784864  1.143436        -0.787776      -0.188845      -1.575718   \n",
       "4     -0.098630  0.446759         0.836178       2.096556      -0.246547   \n",
       "...         ...       ...              ...            ...            ...   \n",
       "13219 -1.062440 -0.714370         0.488188      -1.168303      -0.971549   \n",
       "13220 -0.660852 -1.352991        -1.483757      -0.841817      -0.125713   \n",
       "13221 -0.580535  1.607888        -0.091796      -0.188845       0.478456   \n",
       "13222 -1.062440 -0.656314        -1.483757      -1.168303       0.478456   \n",
       "13223  0.784864 -0.307975        -0.555783      -0.841817      -0.367381   \n",
       "\n",
       "       Total Spend  Last Interaction  Gender_Female  Gender_Male  \\\n",
       "0        -2.070395          1.793230            1.0          0.0   \n",
       "1         0.090399          1.096548            0.0          1.0   \n",
       "2        -2.203186          1.096548            1.0          0.0   \n",
       "3        -1.731983         -0.877386            1.0          0.0   \n",
       "4         0.372290          1.677117            0.0          1.0   \n",
       "...            ...               ...            ...          ...   \n",
       "13219     0.154467          0.283752            0.0          1.0   \n",
       "13220    -0.363027         -1.225727            1.0          0.0   \n",
       "13221     0.031571         -1.341841            0.0          1.0   \n",
       "13222     1.166561         -1.574068            0.0          1.0   \n",
       "13223     0.515144         -0.529045            0.0          1.0   \n",
       "\n",
       "       Subscription Type_Basic  Subscription Type_Premium  \\\n",
       "0                          1.0                        0.0   \n",
       "1                          0.0                        0.0   \n",
       "2                          1.0                        0.0   \n",
       "3                          0.0                        1.0   \n",
       "4                          0.0                        1.0   \n",
       "...                        ...                        ...   \n",
       "13219                      0.0                        1.0   \n",
       "13220                      0.0                        1.0   \n",
       "13221                      0.0                        0.0   \n",
       "13222                      1.0                        0.0   \n",
       "13223                      0.0                        0.0   \n",
       "\n",
       "       Subscription Type_Standard  Contract Length_Annual  \\\n",
       "0                             0.0                     1.0   \n",
       "1                             1.0                     0.0   \n",
       "2                             0.0                     0.0   \n",
       "3                             0.0                     1.0   \n",
       "4                             0.0                     0.0   \n",
       "...                           ...                     ...   \n",
       "13219                         0.0                     0.0   \n",
       "13220                         0.0                     0.0   \n",
       "13221                         1.0                     1.0   \n",
       "13222                         0.0                     1.0   \n",
       "13223                         1.0                     1.0   \n",
       "\n",
       "       Contract Length_Monthly  Contract Length_Quarterly  \n",
       "0                          0.0                        0.0  \n",
       "1                          0.0                        1.0  \n",
       "2                          1.0                        0.0  \n",
       "3                          0.0                        0.0  \n",
       "4                          0.0                        1.0  \n",
       "...                        ...                        ...  \n",
       "13219                      0.0                        1.0  \n",
       "13220                      0.0                        1.0  \n",
       "13221                      0.0                        0.0  \n",
       "13222                      0.0                        0.0  \n",
       "13223                      0.0                        0.0  \n",
       "\n",
       "[13224 rows x 15 columns]"
      ]
     },
     "execution_count": 140,
     "metadata": {},
     "output_type": "execute_result"
    }
   ],
   "source": [
    "##See the result\n",
    "column_names = (\n",
    "    list(prep_pipe.named_transformers_['scaler'].get_feature_names_out(numerical_cols))\n",
    "    + list(prep_pipe.named_transformers_['ohe'].get_feature_names_out(categorical_cols))\n",
    ")\n",
    "\n",
    "df_transformed = pd.DataFrame(X_train_prepared, columns=column_names)\n",
    "df_transformed"
   ]
  },
  {
   "cell_type": "markdown",
   "id": "16d30fad",
   "metadata": {},
   "source": [
    "### Build the architecture"
   ]
  },
  {
   "cell_type": "code",
   "execution_count": 141,
   "id": "51ec26e5",
   "metadata": {},
   "outputs": [],
   "source": [
    "import tensorflow\n",
    "from tensorflow import keras\n",
    "from tensorflow.keras import Sequential\n",
    "from tensorflow.keras.layers import Dense, Input"
   ]
  },
  {
   "cell_type": "code",
   "execution_count": 145,
   "id": "33178c95",
   "metadata": {},
   "outputs": [],
   "source": [
    "#There are two types of models: Sequential-layers stacked on after another, Non-Sequential\n",
    "model = Sequential()  \n",
    "\n",
    "\n",
    "#first layer is input layer with 15 neurons(for 15 inputs)\n",
    "#activation function used is sigmoid\n",
    "model.add(Input(shape=(X_train_prepared.shape[1],)))\n",
    "\n",
    "#We adding dense layer: each in a layer is connected to each neuron in previous layer\n",
    "#Hidden layer with 15 neurons\n",
    "model.add(Dense(15,activation='sigmoid'))\n",
    "\n",
    "#Output layer\n",
    "model.add(Dense(1,activation='sigmoid'))"
   ]
  },
  {
   "cell_type": "code",
   "execution_count": 146,
   "id": "bd88533d",
   "metadata": {},
   "outputs": [
    {
     "data": {
      "text/html": [
       "<pre style=\"white-space:pre;overflow-x:auto;line-height:normal;font-family:Menlo,'DejaVu Sans Mono',consolas,'Courier New',monospace\"><span style=\"font-weight: bold\">Model: \"sequential_3\"</span>\n",
       "</pre>\n"
      ],
      "text/plain": [
       "\u001b[1mModel: \"sequential_3\"\u001b[0m\n"
      ]
     },
     "metadata": {},
     "output_type": "display_data"
    },
    {
     "data": {
      "text/html": [
       "<pre style=\"white-space:pre;overflow-x:auto;line-height:normal;font-family:Menlo,'DejaVu Sans Mono',consolas,'Courier New',monospace\">┏━━━━━━━━━━━━━━━━━━━━━━━━━━━━━━━━━┳━━━━━━━━━━━━━━━━━━━━━━━━┳━━━━━━━━━━━━━━━┓\n",
       "┃<span style=\"font-weight: bold\"> Layer (type)                    </span>┃<span style=\"font-weight: bold\"> Output Shape           </span>┃<span style=\"font-weight: bold\">       Param # </span>┃\n",
       "┡━━━━━━━━━━━━━━━━━━━━━━━━━━━━━━━━━╇━━━━━━━━━━━━━━━━━━━━━━━━╇━━━━━━━━━━━━━━━┩\n",
       "│ dense_6 (<span style=\"color: #0087ff; text-decoration-color: #0087ff\">Dense</span>)                 │ (<span style=\"color: #00d7ff; text-decoration-color: #00d7ff\">None</span>, <span style=\"color: #00af00; text-decoration-color: #00af00\">15</span>)             │           <span style=\"color: #00af00; text-decoration-color: #00af00\">240</span> │\n",
       "├─────────────────────────────────┼────────────────────────┼───────────────┤\n",
       "│ dense_7 (<span style=\"color: #0087ff; text-decoration-color: #0087ff\">Dense</span>)                 │ (<span style=\"color: #00d7ff; text-decoration-color: #00d7ff\">None</span>, <span style=\"color: #00af00; text-decoration-color: #00af00\">1</span>)              │            <span style=\"color: #00af00; text-decoration-color: #00af00\">16</span> │\n",
       "└─────────────────────────────────┴────────────────────────┴───────────────┘\n",
       "</pre>\n"
      ],
      "text/plain": [
       "┏━━━━━━━━━━━━━━━━━━━━━━━━━━━━━━━━━┳━━━━━━━━━━━━━━━━━━━━━━━━┳━━━━━━━━━━━━━━━┓\n",
       "┃\u001b[1m \u001b[0m\u001b[1mLayer (type)                   \u001b[0m\u001b[1m \u001b[0m┃\u001b[1m \u001b[0m\u001b[1mOutput Shape          \u001b[0m\u001b[1m \u001b[0m┃\u001b[1m \u001b[0m\u001b[1m      Param #\u001b[0m\u001b[1m \u001b[0m┃\n",
       "┡━━━━━━━━━━━━━━━━━━━━━━━━━━━━━━━━━╇━━━━━━━━━━━━━━━━━━━━━━━━╇━━━━━━━━━━━━━━━┩\n",
       "│ dense_6 (\u001b[38;5;33mDense\u001b[0m)                 │ (\u001b[38;5;45mNone\u001b[0m, \u001b[38;5;34m15\u001b[0m)             │           \u001b[38;5;34m240\u001b[0m │\n",
       "├─────────────────────────────────┼────────────────────────┼───────────────┤\n",
       "│ dense_7 (\u001b[38;5;33mDense\u001b[0m)                 │ (\u001b[38;5;45mNone\u001b[0m, \u001b[38;5;34m1\u001b[0m)              │            \u001b[38;5;34m16\u001b[0m │\n",
       "└─────────────────────────────────┴────────────────────────┴───────────────┘\n"
      ]
     },
     "metadata": {},
     "output_type": "display_data"
    },
    {
     "data": {
      "text/html": [
       "<pre style=\"white-space:pre;overflow-x:auto;line-height:normal;font-family:Menlo,'DejaVu Sans Mono',consolas,'Courier New',monospace\"><span style=\"font-weight: bold\"> Total params: </span><span style=\"color: #00af00; text-decoration-color: #00af00\">256</span> (1.00 KB)\n",
       "</pre>\n"
      ],
      "text/plain": [
       "\u001b[1m Total params: \u001b[0m\u001b[38;5;34m256\u001b[0m (1.00 KB)\n"
      ]
     },
     "metadata": {},
     "output_type": "display_data"
    },
    {
     "data": {
      "text/html": [
       "<pre style=\"white-space:pre;overflow-x:auto;line-height:normal;font-family:Menlo,'DejaVu Sans Mono',consolas,'Courier New',monospace\"><span style=\"font-weight: bold\"> Trainable params: </span><span style=\"color: #00af00; text-decoration-color: #00af00\">256</span> (1.00 KB)\n",
       "</pre>\n"
      ],
      "text/plain": [
       "\u001b[1m Trainable params: \u001b[0m\u001b[38;5;34m256\u001b[0m (1.00 KB)\n"
      ]
     },
     "metadata": {},
     "output_type": "display_data"
    },
    {
     "data": {
      "text/html": [
       "<pre style=\"white-space:pre;overflow-x:auto;line-height:normal;font-family:Menlo,'DejaVu Sans Mono',consolas,'Courier New',monospace\"><span style=\"font-weight: bold\"> Non-trainable params: </span><span style=\"color: #00af00; text-decoration-color: #00af00\">0</span> (0.00 B)\n",
       "</pre>\n"
      ],
      "text/plain": [
       "\u001b[1m Non-trainable params: \u001b[0m\u001b[38;5;34m0\u001b[0m (0.00 B)\n"
      ]
     },
     "metadata": {},
     "output_type": "display_data"
    }
   ],
   "source": [
    "##Summary about model\n",
    "model.summary()"
   ]
  },
  {
   "cell_type": "markdown",
   "id": "e2d433f8",
   "metadata": {},
   "source": [
    "- _There are 225 weights and 15 bias in layer 1 (from input to hidden layer)_\n",
    "- _There are 15 weights and 1 bias in layer 2  (from hidden layer to output layer)_"
   ]
  },
  {
   "cell_type": "code",
   "execution_count": 147,
   "id": "25a9ff6c",
   "metadata": {},
   "outputs": [],
   "source": [
    "##Compile the model\n",
    "model.compile(loss='binary_crossentropy',optimizer='Adam',metrics=['accuracy'])  \n",
    "# binary_crossentropy means log-loss function (which is for binary classification problems as we are facing)\n",
    "# optimizer = 'Adam', there are more optimiers, but Adam is good for SGD"
   ]
  },
  {
   "cell_type": "code",
   "execution_count": 149,
   "id": "3dc06112",
   "metadata": {},
   "outputs": [
    {
     "name": "stdout",
     "output_type": "stream",
     "text": [
      "Epoch 1/50\n",
      "\u001b[1m212/212\u001b[0m \u001b[32m━━━━━━━━━━━━━━━━━━━━\u001b[0m\u001b[37m\u001b[0m \u001b[1m1s\u001b[0m 3ms/step - accuracy: 0.7308 - loss: 0.5835 - val_accuracy: 0.8408 - val_loss: 0.4846\n",
      "Epoch 2/50\n",
      "\u001b[1m212/212\u001b[0m \u001b[32m━━━━━━━━━━━━━━━━━━━━\u001b[0m\u001b[37m\u001b[0m \u001b[1m0s\u001b[0m 2ms/step - accuracy: 0.8652 - loss: 0.4238 - val_accuracy: 0.8733 - val_loss: 0.3653\n",
      "Epoch 3/50\n",
      "\u001b[1m212/212\u001b[0m \u001b[32m━━━━━━━━━━━━━━━━━━━━\u001b[0m\u001b[37m\u001b[0m \u001b[1m0s\u001b[0m 2ms/step - accuracy: 0.8782 - loss: 0.3391 - val_accuracy: 0.8828 - val_loss: 0.3057\n",
      "Epoch 4/50\n",
      "\u001b[1m212/212\u001b[0m \u001b[32m━━━━━━━━━━━━━━━━━━━━\u001b[0m\u001b[37m\u001b[0m \u001b[1m0s\u001b[0m 2ms/step - accuracy: 0.8846 - loss: 0.2979 - val_accuracy: 0.8900 - val_loss: 0.2744\n",
      "Epoch 5/50\n",
      "\u001b[1m212/212\u001b[0m \u001b[32m━━━━━━━━━━━━━━━━━━━━\u001b[0m\u001b[37m\u001b[0m \u001b[1m0s\u001b[0m 2ms/step - accuracy: 0.8895 - loss: 0.2764 - val_accuracy: 0.8938 - val_loss: 0.2575\n",
      "Epoch 6/50\n",
      "\u001b[1m212/212\u001b[0m \u001b[32m━━━━━━━━━━━━━━━━━━━━\u001b[0m\u001b[37m\u001b[0m \u001b[1m0s\u001b[0m 2ms/step - accuracy: 0.8910 - loss: 0.2643 - val_accuracy: 0.8960 - val_loss: 0.2473\n",
      "Epoch 7/50\n",
      "\u001b[1m212/212\u001b[0m \u001b[32m━━━━━━━━━━━━━━━━━━━━\u001b[0m\u001b[37m\u001b[0m \u001b[1m0s\u001b[0m 2ms/step - accuracy: 0.8926 - loss: 0.2568 - val_accuracy: 0.8964 - val_loss: 0.2411\n",
      "Epoch 8/50\n",
      "\u001b[1m212/212\u001b[0m \u001b[32m━━━━━━━━━━━━━━━━━━━━\u001b[0m\u001b[37m\u001b[0m \u001b[1m0s\u001b[0m 2ms/step - accuracy: 0.8942 - loss: 0.2514 - val_accuracy: 0.8972 - val_loss: 0.2360\n",
      "Epoch 9/50\n",
      "\u001b[1m212/212\u001b[0m \u001b[32m━━━━━━━━━━━━━━━━━━━━\u001b[0m\u001b[37m\u001b[0m \u001b[1m0s\u001b[0m 2ms/step - accuracy: 0.8946 - loss: 0.2472 - val_accuracy: 0.8991 - val_loss: 0.2318\n",
      "Epoch 10/50\n",
      "\u001b[1m212/212\u001b[0m \u001b[32m━━━━━━━━━━━━━━━━━━━━\u001b[0m\u001b[37m\u001b[0m \u001b[1m0s\u001b[0m 2ms/step - accuracy: 0.8969 - loss: 0.2432 - val_accuracy: 0.9009 - val_loss: 0.2280\n",
      "Epoch 11/50\n",
      "\u001b[1m212/212\u001b[0m \u001b[32m━━━━━━━━━━━━━━━━━━━━\u001b[0m\u001b[37m\u001b[0m \u001b[1m0s\u001b[0m 2ms/step - accuracy: 0.8982 - loss: 0.2391 - val_accuracy: 0.9028 - val_loss: 0.2237\n",
      "Epoch 12/50\n",
      "\u001b[1m212/212\u001b[0m \u001b[32m━━━━━━━━━━━━━━━━━━━━\u001b[0m\u001b[37m\u001b[0m \u001b[1m0s\u001b[0m 2ms/step - accuracy: 0.9002 - loss: 0.2350 - val_accuracy: 0.9059 - val_loss: 0.2195\n",
      "Epoch 13/50\n",
      "\u001b[1m212/212\u001b[0m \u001b[32m━━━━━━━━━━━━━━━━━━━━\u001b[0m\u001b[37m\u001b[0m \u001b[1m0s\u001b[0m 2ms/step - accuracy: 0.9033 - loss: 0.2304 - val_accuracy: 0.9074 - val_loss: 0.2148\n",
      "Epoch 14/50\n",
      "\u001b[1m212/212\u001b[0m \u001b[32m━━━━━━━━━━━━━━━━━━━━\u001b[0m\u001b[37m\u001b[0m \u001b[1m0s\u001b[0m 2ms/step - accuracy: 0.9061 - loss: 0.2255 - val_accuracy: 0.9108 - val_loss: 0.2093\n",
      "Epoch 15/50\n",
      "\u001b[1m212/212\u001b[0m \u001b[32m━━━━━━━━━━━━━━━━━━━━\u001b[0m\u001b[37m\u001b[0m \u001b[1m0s\u001b[0m 2ms/step - accuracy: 0.9085 - loss: 0.2205 - val_accuracy: 0.9142 - val_loss: 0.2041\n",
      "Epoch 16/50\n",
      "\u001b[1m212/212\u001b[0m \u001b[32m━━━━━━━━━━━━━━━━━━━━\u001b[0m\u001b[37m\u001b[0m \u001b[1m0s\u001b[0m 2ms/step - accuracy: 0.9112 - loss: 0.2151 - val_accuracy: 0.9180 - val_loss: 0.1984\n",
      "Epoch 17/50\n",
      "\u001b[1m212/212\u001b[0m \u001b[32m━━━━━━━━━━━━━━━━━━━━\u001b[0m\u001b[37m\u001b[0m \u001b[1m0s\u001b[0m 2ms/step - accuracy: 0.9146 - loss: 0.2094 - val_accuracy: 0.9225 - val_loss: 0.1932\n",
      "Epoch 18/50\n",
      "\u001b[1m212/212\u001b[0m \u001b[32m━━━━━━━━━━━━━━━━━━━━\u001b[0m\u001b[37m\u001b[0m \u001b[1m0s\u001b[0m 2ms/step - accuracy: 0.9173 - loss: 0.2037 - val_accuracy: 0.9259 - val_loss: 0.1872\n",
      "Epoch 19/50\n",
      "\u001b[1m212/212\u001b[0m \u001b[32m━━━━━━━━━━━━━━━━━━━━\u001b[0m\u001b[37m\u001b[0m \u001b[1m0s\u001b[0m 2ms/step - accuracy: 0.9202 - loss: 0.1981 - val_accuracy: 0.9301 - val_loss: 0.1818\n",
      "Epoch 20/50\n",
      "\u001b[1m212/212\u001b[0m \u001b[32m━━━━━━━━━━━━━━━━━━━━\u001b[0m\u001b[37m\u001b[0m \u001b[1m0s\u001b[0m 2ms/step - accuracy: 0.9233 - loss: 0.1925 - val_accuracy: 0.9353 - val_loss: 0.1764\n",
      "Epoch 21/50\n",
      "\u001b[1m212/212\u001b[0m \u001b[32m━━━━━━━━━━━━━━━━━━━━\u001b[0m\u001b[37m\u001b[0m \u001b[1m1s\u001b[0m 2ms/step - accuracy: 0.9268 - loss: 0.1871 - val_accuracy: 0.9395 - val_loss: 0.1711\n",
      "Epoch 22/50\n",
      "\u001b[1m212/212\u001b[0m \u001b[32m━━━━━━━━━━━━━━━━━━━━\u001b[0m\u001b[37m\u001b[0m \u001b[1m1s\u001b[0m 2ms/step - accuracy: 0.9297 - loss: 0.1819 - val_accuracy: 0.9433 - val_loss: 0.1662\n",
      "Epoch 23/50\n",
      "\u001b[1m212/212\u001b[0m \u001b[32m━━━━━━━━━━━━━━━━━━━━\u001b[0m\u001b[37m\u001b[0m \u001b[1m0s\u001b[0m 2ms/step - accuracy: 0.9327 - loss: 0.1769 - val_accuracy: 0.9452 - val_loss: 0.1614\n",
      "Epoch 24/50\n",
      "\u001b[1m212/212\u001b[0m \u001b[32m━━━━━━━━━━━━━━━━━━━━\u001b[0m\u001b[37m\u001b[0m \u001b[1m0s\u001b[0m 2ms/step - accuracy: 0.9355 - loss: 0.1721 - val_accuracy: 0.9482 - val_loss: 0.1570\n",
      "Epoch 25/50\n",
      "\u001b[1m212/212\u001b[0m \u001b[32m━━━━━━━━━━━━━━━━━━━━\u001b[0m\u001b[37m\u001b[0m \u001b[1m0s\u001b[0m 2ms/step - accuracy: 0.9364 - loss: 0.1675 - val_accuracy: 0.9482 - val_loss: 0.1534\n",
      "Epoch 26/50\n",
      "\u001b[1m212/212\u001b[0m \u001b[32m━━━━━━━━━━━━━━━━━━━━\u001b[0m\u001b[37m\u001b[0m \u001b[1m0s\u001b[0m 2ms/step - accuracy: 0.9401 - loss: 0.1632 - val_accuracy: 0.9486 - val_loss: 0.1507\n",
      "Epoch 27/50\n",
      "\u001b[1m212/212\u001b[0m \u001b[32m━━━━━━━━━━━━━━━━━━━━\u001b[0m\u001b[37m\u001b[0m \u001b[1m0s\u001b[0m 2ms/step - accuracy: 0.9421 - loss: 0.1592 - val_accuracy: 0.9554 - val_loss: 0.1454\n",
      "Epoch 28/50\n",
      "\u001b[1m212/212\u001b[0m \u001b[32m━━━━━━━━━━━━━━━━━━━━\u001b[0m\u001b[37m\u001b[0m \u001b[1m0s\u001b[0m 2ms/step - accuracy: 0.9445 - loss: 0.1550 - val_accuracy: 0.9550 - val_loss: 0.1427\n",
      "Epoch 29/50\n",
      "\u001b[1m212/212\u001b[0m \u001b[32m━━━━━━━━━━━━━━━━━━━━\u001b[0m\u001b[37m\u001b[0m \u001b[1m0s\u001b[0m 2ms/step - accuracy: 0.9462 - loss: 0.1515 - val_accuracy: 0.9558 - val_loss: 0.1385\n",
      "Epoch 30/50\n",
      "\u001b[1m212/212\u001b[0m \u001b[32m━━━━━━━━━━━━━━━━━━━━\u001b[0m\u001b[37m\u001b[0m \u001b[1m0s\u001b[0m 2ms/step - accuracy: 0.9473 - loss: 0.1478 - val_accuracy: 0.9573 - val_loss: 0.1353\n",
      "Epoch 31/50\n",
      "\u001b[1m212/212\u001b[0m \u001b[32m━━━━━━━━━━━━━━━━━━━━\u001b[0m\u001b[37m\u001b[0m \u001b[1m0s\u001b[0m 2ms/step - accuracy: 0.9497 - loss: 0.1443 - val_accuracy: 0.9588 - val_loss: 0.1329\n",
      "Epoch 32/50\n",
      "\u001b[1m212/212\u001b[0m \u001b[32m━━━━━━━━━━━━━━━━━━━━\u001b[0m\u001b[37m\u001b[0m \u001b[1m0s\u001b[0m 2ms/step - accuracy: 0.9512 - loss: 0.1412 - val_accuracy: 0.9573 - val_loss: 0.1294\n",
      "Epoch 33/50\n",
      "\u001b[1m212/212\u001b[0m \u001b[32m━━━━━━━━━━━━━━━━━━━━\u001b[0m\u001b[37m\u001b[0m \u001b[1m0s\u001b[0m 2ms/step - accuracy: 0.9530 - loss: 0.1381 - val_accuracy: 0.9611 - val_loss: 0.1275\n",
      "Epoch 34/50\n",
      "\u001b[1m212/212\u001b[0m \u001b[32m━━━━━━━━━━━━━━━━━━━━\u001b[0m\u001b[37m\u001b[0m \u001b[1m0s\u001b[0m 2ms/step - accuracy: 0.9540 - loss: 0.1353 - val_accuracy: 0.9611 - val_loss: 0.1249\n",
      "Epoch 35/50\n",
      "\u001b[1m212/212\u001b[0m \u001b[32m━━━━━━━━━━━━━━━━━━━━\u001b[0m\u001b[37m\u001b[0m \u001b[1m0s\u001b[0m 2ms/step - accuracy: 0.9558 - loss: 0.1324 - val_accuracy: 0.9618 - val_loss: 0.1227\n",
      "Epoch 36/50\n",
      "\u001b[1m212/212\u001b[0m \u001b[32m━━━━━━━━━━━━━━━━━━━━\u001b[0m\u001b[37m\u001b[0m \u001b[1m0s\u001b[0m 2ms/step - accuracy: 0.9561 - loss: 0.1299 - val_accuracy: 0.9626 - val_loss: 0.1197\n",
      "Epoch 37/50\n",
      "\u001b[1m212/212\u001b[0m \u001b[32m━━━━━━━━━━━━━━━━━━━━\u001b[0m\u001b[37m\u001b[0m \u001b[1m0s\u001b[0m 2ms/step - accuracy: 0.9581 - loss: 0.1274 - val_accuracy: 0.9637 - val_loss: 0.1176\n",
      "Epoch 38/50\n",
      "\u001b[1m212/212\u001b[0m \u001b[32m━━━━━━━━━━━━━━━━━━━━\u001b[0m\u001b[37m\u001b[0m \u001b[1m1s\u001b[0m 2ms/step - accuracy: 0.9592 - loss: 0.1249 - val_accuracy: 0.9648 - val_loss: 0.1157\n",
      "Epoch 39/50\n",
      "\u001b[1m212/212\u001b[0m \u001b[32m━━━━━━━━━━━━━━━━━━━━\u001b[0m\u001b[37m\u001b[0m \u001b[1m1s\u001b[0m 2ms/step - accuracy: 0.9601 - loss: 0.1227 - val_accuracy: 0.9641 - val_loss: 0.1139\n",
      "Epoch 40/50\n",
      "\u001b[1m212/212\u001b[0m \u001b[32m━━━━━━━━━━━━━━━━━━━━\u001b[0m\u001b[37m\u001b[0m \u001b[1m1s\u001b[0m 2ms/step - accuracy: 0.9609 - loss: 0.1206 - val_accuracy: 0.9652 - val_loss: 0.1122\n",
      "Epoch 41/50\n",
      "\u001b[1m212/212\u001b[0m \u001b[32m━━━━━━━━━━━━━━━━━━━━\u001b[0m\u001b[37m\u001b[0m \u001b[1m0s\u001b[0m 2ms/step - accuracy: 0.9624 - loss: 0.1184 - val_accuracy: 0.9656 - val_loss: 0.1102\n",
      "Epoch 42/50\n",
      "\u001b[1m212/212\u001b[0m \u001b[32m━━━━━━━━━━━━━━━━━━━━\u001b[0m\u001b[37m\u001b[0m \u001b[1m1s\u001b[0m 2ms/step - accuracy: 0.9623 - loss: 0.1164 - val_accuracy: 0.9664 - val_loss: 0.1086\n",
      "Epoch 43/50\n",
      "\u001b[1m212/212\u001b[0m \u001b[32m━━━━━━━━━━━━━━━━━━━━\u001b[0m\u001b[37m\u001b[0m \u001b[1m0s\u001b[0m 2ms/step - accuracy: 0.9632 - loss: 0.1145 - val_accuracy: 0.9671 - val_loss: 0.1074\n",
      "Epoch 44/50\n",
      "\u001b[1m212/212\u001b[0m \u001b[32m━━━━━━━━━━━━━━━━━━━━\u001b[0m\u001b[37m\u001b[0m \u001b[1m1s\u001b[0m 2ms/step - accuracy: 0.9642 - loss: 0.1127 - val_accuracy: 0.9664 - val_loss: 0.1052\n",
      "Epoch 45/50\n",
      "\u001b[1m212/212\u001b[0m \u001b[32m━━━━━━━━━━━━━━━━━━━━\u001b[0m\u001b[37m\u001b[0m \u001b[1m0s\u001b[0m 2ms/step - accuracy: 0.9645 - loss: 0.1109 - val_accuracy: 0.9660 - val_loss: 0.1039\n",
      "Epoch 46/50\n",
      "\u001b[1m212/212\u001b[0m \u001b[32m━━━━━━━━━━━━━━━━━━━━\u001b[0m\u001b[37m\u001b[0m \u001b[1m0s\u001b[0m 2ms/step - accuracy: 0.9652 - loss: 0.1091 - val_accuracy: 0.9675 - val_loss: 0.1023\n",
      "Epoch 47/50\n",
      "\u001b[1m212/212\u001b[0m \u001b[32m━━━━━━━━━━━━━━━━━━━━\u001b[0m\u001b[37m\u001b[0m \u001b[1m0s\u001b[0m 2ms/step - accuracy: 0.9654 - loss: 0.1075 - val_accuracy: 0.9679 - val_loss: 0.1009\n",
      "Epoch 48/50\n",
      "\u001b[1m212/212\u001b[0m \u001b[32m━━━━━━━━━━━━━━━━━━━━\u001b[0m\u001b[37m\u001b[0m \u001b[1m0s\u001b[0m 2ms/step - accuracy: 0.9655 - loss: 0.1059 - val_accuracy: 0.9694 - val_loss: 0.0995\n",
      "Epoch 49/50\n",
      "\u001b[1m212/212\u001b[0m \u001b[32m━━━━━━━━━━━━━━━━━━━━\u001b[0m\u001b[37m\u001b[0m \u001b[1m0s\u001b[0m 2ms/step - accuracy: 0.9660 - loss: 0.1043 - val_accuracy: 0.9690 - val_loss: 0.0981\n",
      "Epoch 50/50\n",
      "\u001b[1m212/212\u001b[0m \u001b[32m━━━━━━━━━━━━━━━━━━━━\u001b[0m\u001b[37m\u001b[0m \u001b[1m0s\u001b[0m 2ms/step - accuracy: 0.9663 - loss: 0.1028 - val_accuracy: 0.9701 - val_loss: 0.0974\n"
     ]
    },
    {
     "data": {
      "text/plain": [
       "<keras.src.callbacks.history.History at 0x11d184da780>"
      ]
     },
     "execution_count": 149,
     "metadata": {},
     "output_type": "execute_result"
    }
   ],
   "source": [
    "#Train the model\n",
    "model.fit(X_train_prepared,y_train,batch_size=50,epochs=50,verbose=1,validation_split=0.2)"
   ]
  },
  {
   "cell_type": "code",
   "execution_count": 159,
   "id": "ff065792",
   "metadata": {},
   "outputs": [
    {
     "name": "stdout",
     "output_type": "stream",
     "text": [
      "[<Dense name=dense_6, built=True>, <Dense name=dense_7, built=True>]\n",
      "[array([[ 2.6344788],\n",
      "       [ 3.02962  ],\n",
      "       [-1.9124633],\n",
      "       [-1.3744726],\n",
      "       [ 1.1410298],\n",
      "       [ 4.32654  ],\n",
      "       [ 1.6716506],\n",
      "       [ 1.9446043],\n",
      "       [ 2.7251005],\n",
      "       [ 3.0100431],\n",
      "       [ 2.542097 ],\n",
      "       [-1.7008858],\n",
      "       [ 2.882056 ],\n",
      "       [-1.4749913],\n",
      "       [-1.3744146]], dtype=float32), array([0.10938305], dtype=float32)]\n"
     ]
    }
   ],
   "source": [
    "## The information about trained model is stored in \"layers\"\n",
    "print(model.layers)\n",
    "\n",
    "print(model.layers[1].get_weights())"
   ]
  },
  {
   "cell_type": "markdown",
   "id": "91c9de3b",
   "metadata": {},
   "source": [
    "- _There are 225 weights and 15 bias in layer 1 (from input to hidden layer)_\n",
    "- _There are 15 weights and 1 bias in layer 2  (from hidden layer to output layer)_"
   ]
  },
  {
   "cell_type": "markdown",
   "id": "c1b6ff20",
   "metadata": {},
   "source": [
    "_Prepare Test data:_"
   ]
  },
  {
   "cell_type": "code",
   "execution_count": 161,
   "id": "9f018c1a",
   "metadata": {},
   "outputs": [],
   "source": [
    "# Preparing test data for evaluations\n",
    "test_data = pd.read_csv(r\"C:\\Users\\Arun\\Documents\\Documents\\Deep Learning\\1_Introduction_To_ANNs\\datasets\\customer_churn\\customer_churn_dataset-testing-master.csv\")\n",
    "\n",
    "X_test = test_data.iloc[:,1:-1]\n",
    "y_test = test_data['Churn']\n",
    "\n",
    "X_test_preped = prep_pipe.transform(X_test)"
   ]
  },
  {
   "cell_type": "markdown",
   "id": "13190f20",
   "metadata": {},
   "source": [
    "_Make predictions:_"
   ]
  },
  {
   "cell_type": "code",
   "execution_count": 162,
   "id": "64ca8c14",
   "metadata": {},
   "outputs": [
    {
     "name": "stdout",
     "output_type": "stream",
     "text": [
      "\u001b[1m2012/2012\u001b[0m \u001b[32m━━━━━━━━━━━━━━━━━━━━\u001b[0m\u001b[37m\u001b[0m \u001b[1m1s\u001b[0m 632us/step\n"
     ]
    },
    {
     "data": {
      "text/plain": [
       "array([[0.9999997 ],\n",
       "       [1.        ],\n",
       "       [0.88793147],\n",
       "       ...,\n",
       "       [0.99999994],\n",
       "       [1.        ],\n",
       "       [1.        ]], shape=(64374, 1), dtype=float32)"
      ]
     },
     "execution_count": 162,
     "metadata": {},
     "output_type": "execute_result"
    }
   ],
   "source": [
    "y_pred_prob = model.predict(X_test_preped)\n",
    "y_pred_prob"
   ]
  },
  {
   "cell_type": "markdown",
   "id": "b39063ca",
   "metadata": {},
   "source": [
    "Since we used 'sigmoid' activation function the output is 'probability'.   \n",
    "Make a function to get binary output for binary classification"
   ]
  },
  {
   "cell_type": "code",
   "execution_count": 163,
   "id": "75360334",
   "metadata": {},
   "outputs": [
    {
     "data": {
      "text/plain": [
       "np.int64(4112)"
      ]
     },
     "execution_count": 163,
     "metadata": {},
     "output_type": "execute_result"
    }
   ],
   "source": [
    "(y_pred_prob<0.5).sum()"
   ]
  },
  {
   "cell_type": "code",
   "execution_count": 164,
   "id": "34d961c9",
   "metadata": {},
   "outputs": [],
   "source": [
    "import numpy as np\n",
    "y_pred = np.where(y_pred_prob>0.5, 1,0)"
   ]
  },
  {
   "cell_type": "code",
   "execution_count": 165,
   "id": "641ba90e",
   "metadata": {},
   "outputs": [
    {
     "data": {
      "text/plain": [
       "(array([0, 1]), array([ 4112, 60262]))"
      ]
     },
     "execution_count": 165,
     "metadata": {},
     "output_type": "execute_result"
    }
   ],
   "source": [
    "np.unique(y_pred,return_counts=True)"
   ]
  },
  {
   "cell_type": "markdown",
   "id": "6e6e1990",
   "metadata": {},
   "source": [
    "_Check accuracy:_"
   ]
  },
  {
   "cell_type": "code",
   "execution_count": 166,
   "id": "ef3a95be",
   "metadata": {},
   "outputs": [
    {
     "data": {
      "text/plain": [
       "0.5339267406095629"
      ]
     },
     "execution_count": 166,
     "metadata": {},
     "output_type": "execute_result"
    }
   ],
   "source": [
    "from sklearn.metrics import accuracy_score\n",
    "accuracy_score(y_test,y_pred)"
   ]
  },
  {
   "cell_type": "markdown",
   "id": "5ddf4713",
   "metadata": {},
   "source": [
    "# I GIVE UP, THE ACCURACY IS NOT INCREASING\n",
    "# I AM DOING SOMETHING WRONG HERE, I WILL CHECK IT OUT LATER \n",
    "# DAMNNNNNNNNNNNNN BHAI MERTE NO HERA"
   ]
  }
 ],
 "metadata": {
  "kernelspec": {
   "display_name": "env",
   "language": "python",
   "name": "python3"
  },
  "language_info": {
   "codemirror_mode": {
    "name": "ipython",
    "version": 3
   },
   "file_extension": ".py",
   "mimetype": "text/x-python",
   "name": "python",
   "nbconvert_exporter": "python",
   "pygments_lexer": "ipython3",
   "version": "3.13.1"
  }
 },
 "nbformat": 4,
 "nbformat_minor": 5
}
