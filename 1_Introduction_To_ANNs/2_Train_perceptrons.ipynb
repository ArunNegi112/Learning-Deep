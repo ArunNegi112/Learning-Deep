{
 "cells": [
  {
   "cell_type": "markdown",
   "id": "5eb14b68",
   "metadata": {},
   "source": [
    "## 1. Perceptron Trick\n",
    "Steps: \n",
    "- Decide number of iterations for loop: $epoch$ (generally 1000)\n",
    "- Decide a learning rate: $\\eta$ (generally 0.01)\n",
    "- Initialize with random line/plane for classification\n",
    "- For each iteration, pick a random instance and classify it.\n",
    "- According to classification update the weights according to learning rate \n",
    "    - $$w_{i,j}^{(\\text{next step})} = w_{i,j} + \\eta (y_j - \\hat{y}_j) x_i$$\n",
    "\n",
    "- This function handles all cases (four): \n",
    "$$\n",
    "\\begin{array}{|c|c|c|c|c|}\n",
    "\\hline\n",
    "y & \\hat{y} & (y - \\hat{y}) & \\text{Prediction} & W_{\\text{next step}} \\\\\n",
    "\\hline\n",
    "1 & 1 & 0 & \\text{Correct prediction} & W \\\\\n",
    "\\hline\n",
    "1 & 0 & 1 & \\text{Wrong prediction} & W + \\eta x \\\\\n",
    "\\hline\n",
    "0 & 1 & -1 & \\text{Wrong prediction} & W - \\eta x \\\\\n",
    "\\hline\n",
    "0 & 0 & 0 & \\text{Correct prediction} & W \\\\\n",
    "\\hline\n",
    "\\end{array}\n",
    "$$\n",
    "\n"
   ]
  },
  {
   "cell_type": "markdown",
   "id": "25be4fa2",
   "metadata": {},
   "source": [
    "### `DEMO`"
   ]
  },
  {
   "cell_type": "code",
   "execution_count": 1,
   "id": "9affcd37",
   "metadata": {},
   "outputs": [
    {
     "name": "stdout",
     "output_type": "stream",
     "text": [
      "dict_keys(['data', 'target', 'frame', 'target_names', 'DESCR', 'feature_names', 'filename', 'data_module'])\n",
      "Original targets: [0 1 2]\n",
      "Original targets: ['setosa' 'versicolor' 'virginica']\n",
      "Features:  Index(['sepal length (cm)', 'sepal width (cm)', 'petal length (cm)',\n",
      "       'petal width (cm)'],\n",
      "      dtype='object')\n",
      "We using:  [0 1]\n",
      "We using:  ['setosa' 'versicolor']\n"
     ]
    }
   ],
   "source": [
    "#Load the data (ignore)\n",
    "\n",
    "from sklearn.datasets import load_iris\n",
    "\n",
    "iris = load_iris(as_frame=True)\n",
    "print(iris.keys())\n",
    "\n",
    "#I will try binary classification for simplicity here: setosa, versicolor \n",
    "#And two features: petal_length and petal_width\n",
    "print(\"Original targets:\", iris['target'].unique())\n",
    "print(\"Original targets:\", iris['target_names'])\n",
    "print(\"Features: \", iris['data'].columns)\n",
    "data = iris['frame'][iris['frame']['target']!=2][['petal length (cm)','petal width (cm)', 'target']]\n",
    "print(\"We using: \", data['target'].unique())\n",
    "print(\"We using: \", \"['setosa' 'versicolor']\")"
   ]
  },
  {
   "cell_type": "code",
   "execution_count": 2,
   "id": "fe21c81e",
   "metadata": {},
   "outputs": [
    {
     "data": {
      "text/html": [
       "<div>\n",
       "<style scoped>\n",
       "    .dataframe tbody tr th:only-of-type {\n",
       "        vertical-align: middle;\n",
       "    }\n",
       "\n",
       "    .dataframe tbody tr th {\n",
       "        vertical-align: top;\n",
       "    }\n",
       "\n",
       "    .dataframe thead th {\n",
       "        text-align: right;\n",
       "    }\n",
       "</style>\n",
       "<table border=\"1\" class=\"dataframe\">\n",
       "  <thead>\n",
       "    <tr style=\"text-align: right;\">\n",
       "      <th></th>\n",
       "      <th>petal length (cm)</th>\n",
       "      <th>petal width (cm)</th>\n",
       "      <th>target</th>\n",
       "    </tr>\n",
       "  </thead>\n",
       "  <tbody>\n",
       "    <tr>\n",
       "      <th>0</th>\n",
       "      <td>1.4</td>\n",
       "      <td>0.2</td>\n",
       "      <td>0</td>\n",
       "    </tr>\n",
       "    <tr>\n",
       "      <th>1</th>\n",
       "      <td>1.4</td>\n",
       "      <td>0.2</td>\n",
       "      <td>0</td>\n",
       "    </tr>\n",
       "    <tr>\n",
       "      <th>2</th>\n",
       "      <td>1.3</td>\n",
       "      <td>0.2</td>\n",
       "      <td>0</td>\n",
       "    </tr>\n",
       "    <tr>\n",
       "      <th>3</th>\n",
       "      <td>1.5</td>\n",
       "      <td>0.2</td>\n",
       "      <td>0</td>\n",
       "    </tr>\n",
       "    <tr>\n",
       "      <th>4</th>\n",
       "      <td>1.4</td>\n",
       "      <td>0.2</td>\n",
       "      <td>0</td>\n",
       "    </tr>\n",
       "    <tr>\n",
       "      <th>...</th>\n",
       "      <td>...</td>\n",
       "      <td>...</td>\n",
       "      <td>...</td>\n",
       "    </tr>\n",
       "    <tr>\n",
       "      <th>95</th>\n",
       "      <td>4.2</td>\n",
       "      <td>1.2</td>\n",
       "      <td>1</td>\n",
       "    </tr>\n",
       "    <tr>\n",
       "      <th>96</th>\n",
       "      <td>4.2</td>\n",
       "      <td>1.3</td>\n",
       "      <td>1</td>\n",
       "    </tr>\n",
       "    <tr>\n",
       "      <th>97</th>\n",
       "      <td>4.3</td>\n",
       "      <td>1.3</td>\n",
       "      <td>1</td>\n",
       "    </tr>\n",
       "    <tr>\n",
       "      <th>98</th>\n",
       "      <td>3.0</td>\n",
       "      <td>1.1</td>\n",
       "      <td>1</td>\n",
       "    </tr>\n",
       "    <tr>\n",
       "      <th>99</th>\n",
       "      <td>4.1</td>\n",
       "      <td>1.3</td>\n",
       "      <td>1</td>\n",
       "    </tr>\n",
       "  </tbody>\n",
       "</table>\n",
       "<p>100 rows × 3 columns</p>\n",
       "</div>"
      ],
      "text/plain": [
       "    petal length (cm)  petal width (cm)  target\n",
       "0                 1.4               0.2       0\n",
       "1                 1.4               0.2       0\n",
       "2                 1.3               0.2       0\n",
       "3                 1.5               0.2       0\n",
       "4                 1.4               0.2       0\n",
       "..                ...               ...     ...\n",
       "95                4.2               1.2       1\n",
       "96                4.2               1.3       1\n",
       "97                4.3               1.3       1\n",
       "98                3.0               1.1       1\n",
       "99                4.1               1.3       1\n",
       "\n",
       "[100 rows x 3 columns]"
      ]
     },
     "execution_count": 2,
     "metadata": {},
     "output_type": "execute_result"
    }
   ],
   "source": [
    "data"
   ]
  },
  {
   "cell_type": "code",
   "execution_count": 23,
   "id": "9fecef90",
   "metadata": {},
   "outputs": [],
   "source": [
    "X = data.iloc[:,0:2].values\n",
    "y = data.iloc[:,-1].values"
   ]
  },
  {
   "cell_type": "code",
   "execution_count": 4,
   "id": "5ec30ec1",
   "metadata": {},
   "outputs": [
    {
     "data": {
      "text/plain": [
       "<matplotlib.collections.PathCollection at 0x27d07f0e660>"
      ]
     },
     "execution_count": 4,
     "metadata": {},
     "output_type": "execute_result"
    },
    {
     "data": {
      "image/png": "[encoded data removed]",
      "text/plain": [
       "<Figure size 600x400 with 1 Axes>"
      ]
     },
     "metadata": {},
     "output_type": "display_data"
    }
   ],
   "source": [
    "import matplotlib.pyplot as plt\n",
    "plt.figure(figsize=(6,4))\n",
    "plt.scatter(X[:,0],X[:,1],c=y,cmap='coolwarm')"
   ]
  },
  {
   "cell_type": "code",
   "execution_count": 107,
   "id": "70e4043a",
   "metadata": {},
   "outputs": [],
   "source": [
    "import numpy as np\n",
    "\n",
    "def step(Z):\n",
    "    return 1 if Z>=0 else 0\n",
    "\n",
    "def perceptron(X,y,epoch=1000,eta=0.01):\n",
    "    X = np.insert(X,obj=0,values=1,axis=1)\n",
    "    Weights = np.ones(X.shape[1])         #Initialzing with random weights\n",
    "    for i in range(epoch):\n",
    "        j = np.random.choice(X.shape[0])  #index of random instance\n",
    "        Xi = X[j]\n",
    "        yi = y[j]\n",
    "        y_hat = step(Xi @ Weights)\n",
    "\n",
    "        Weights = Weights + (eta * (yi - y_hat) * Xi)\n",
    "    \n",
    "    return Weights"
   ]
  },
  {
   "cell_type": "code",
   "execution_count": null,
   "id": "2b5b9055",
   "metadata": {},
   "outputs": [],
   "source": [
    "weights = perceptron(X,y,epoch=1000)\n",
    "## Visualize the line\n",
    "import matplotlib.pyplot as plt\n",
    "plt.figure(figsize=(6,4))\n",
    "\n",
    "# We have equation as: w0 + x1w1 + x2w2=0 => Ax + By + C =0 => y = mx + c\n",
    "C = weights[0]\n",
    "A = weights[1]\n",
    "B = weights[2]\n",
    "\n",
    "intercept = -(C/B)\n",
    "slope = -(A/B)\n",
    "\n",
    "x_input = np.linspace(0,6,100)\n",
    "y = slope*x_input + intercept\n",
    "plt.plot(x_input, y)\n",
    "\n",
    "plt.scatter(X[:,0],X[:,1],c=y,cmap='coolwarm')"
   ]
  },
  {
   "cell_type": "code",
   "execution_count": 86,
   "id": "8c442619",
   "metadata": {},
   "outputs": [
    {
     "name": "stdout",
     "output_type": "stream",
     "text": [
      "[-3.] [[0.9 1.7]]\n"
     ]
    }
   ],
   "source": [
    "from sklearn.linear_model import Perceptron\n",
    "\n",
    "p = Perceptron()\n",
    "p.fit(X,y)\n",
    "\n",
    "print(p.intercept_,p.coef_)"
   ]
  },
  {
   "cell_type": "code",
   "execution_count": null,
   "id": "10c1fbd2",
   "metadata": {},
   "outputs": [],
   "source": []
  },
  {
   "cell_type": "markdown",
   "id": "a002792f",
   "metadata": {},
   "source": []
  },
  {
   "cell_type": "code",
   "execution_count": null,
   "id": "478ec444",
   "metadata": {},
   "outputs": [],
   "source": []
  },
  {
   "cell_type": "code",
   "execution_count": null,
   "id": "d3258387",
   "metadata": {},
   "outputs": [],
   "source": []
  },
  {
   "cell_type": "code",
   "execution_count": null,
   "id": "fc09bf5f",
   "metadata": {},
   "outputs": [],
   "source": []
  },
  {
   "cell_type": "code",
   "execution_count": null,
   "id": "11eae9c7",
   "metadata": {},
   "outputs": [],
   "source": []
  }
 ],
 "metadata": {
  "kernelspec": {
   "display_name": "env",
   "language": "python",
   "name": "python3"
  },
  "language_info": {
   "codemirror_mode": {
    "name": "ipython",
    "version": 3
   },
   "file_extension": ".py",
   "mimetype": "text/x-python",
   "name": "python",
   "nbconvert_exporter": "python",
   "pygments_lexer": "ipython3",
   "version": "3.13.1"
  }
 },
 "nbformat": 4,
 "nbformat_minor": 5
}
