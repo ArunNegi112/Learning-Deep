{
 "cells": [
  {
   "cell_type": "markdown",
   "id": "600ec1e8",
   "metadata": {},
   "source": [
    "### Customer Churn dataset\n",
    "Customer churn refers to phenomenon where customers discontinue their relationship with the company\n",
    "\n",
    "\n",
    "_In this notebook we will implement backpropagation of MLP to get an idea about __Backpropagation__ and then in next notebooks understand that deeply_"
   ]
  },
  {
   "cell_type": "markdown",
   "id": "069ea61d",
   "metadata": {},
   "source": [
    "Get the data:"
   ]
  },
  {
   "cell_type": "code",
   "execution_count": 207,
   "id": "9d0c7793",
   "metadata": {},
   "outputs": [
    {
     "name": "stdout",
     "output_type": "stream",
     "text": [
      "Path to dataset files: C:\\Users\\Arun\\.cache\\kagglehub\\datasets\\muhammadshahidazeem\\customer-churn-dataset\\versions\\1\n"
     ]
    }
   ],
   "source": [
    "import kagglehub\n",
    "import os\n",
    "import shutil\n",
    "\n",
    "# Download Customer churn dataset latest version\n",
    "# This will store dataset in \" C:\\Users\\Arun\\.cache\\kagglehub\\datasets\\muhammadshahidazeem\\customer-churn-dataset\\versions\\1\"\n",
    "path = kagglehub.dataset_download(\"muhammadshahidazeem/customer-churn-dataset\")\n",
    "\n",
    "print(\"Path to dataset files:\", path)\n",
    "\n",
    "my_path = r\"C:\\Users\\Arun\\Documents\\Documents\\Deep Learning\\1_Introduction_To_ANNs\\datasets\\customer_churn\"\n",
    "os.makedirs(my_path, exist_ok=True)\n",
    "\n",
    "for file_name in os.listdir(path):\n",
    "    src = os.path.join(path,file_name)\n",
    "    dst = os.path.join(my_path,file_name)\n",
    "    shutil.copy(src=src, dst=dst)"
   ]
  },
  {
   "cell_type": "code",
   "execution_count": 208,
   "id": "77f18576",
   "metadata": {},
   "outputs": [
    {
     "data": {
      "text/html": [
       "<div>\n",
       "<style scoped>\n",
       "    .dataframe tbody tr th:only-of-type {\n",
       "        vertical-align: middle;\n",
       "    }\n",
       "\n",
       "    .dataframe tbody tr th {\n",
       "        vertical-align: top;\n",
       "    }\n",
       "\n",
       "    .dataframe thead th {\n",
       "        text-align: right;\n",
       "    }\n",
       "</style>\n",
       "<table border=\"1\" class=\"dataframe\">\n",
       "  <thead>\n",
       "    <tr style=\"text-align: right;\">\n",
       "      <th></th>\n",
       "      <th>CustomerID</th>\n",
       "      <th>Age</th>\n",
       "      <th>Gender</th>\n",
       "      <th>Tenure</th>\n",
       "      <th>Usage Frequency</th>\n",
       "      <th>Support Calls</th>\n",
       "      <th>Payment Delay</th>\n",
       "      <th>Subscription Type</th>\n",
       "      <th>Contract Length</th>\n",
       "      <th>Total Spend</th>\n",
       "      <th>Last Interaction</th>\n",
       "      <th>Churn</th>\n",
       "    </tr>\n",
       "  </thead>\n",
       "  <tbody>\n",
       "    <tr>\n",
       "      <th>0</th>\n",
       "      <td>2.0</td>\n",
       "      <td>30.0</td>\n",
       "      <td>Female</td>\n",
       "      <td>39.0</td>\n",
       "      <td>14.0</td>\n",
       "      <td>5.0</td>\n",
       "      <td>18.0</td>\n",
       "      <td>Standard</td>\n",
       "      <td>Annual</td>\n",
       "      <td>932.0</td>\n",
       "      <td>17.0</td>\n",
       "      <td>1.0</td>\n",
       "    </tr>\n",
       "    <tr>\n",
       "      <th>1</th>\n",
       "      <td>3.0</td>\n",
       "      <td>65.0</td>\n",
       "      <td>Female</td>\n",
       "      <td>49.0</td>\n",
       "      <td>1.0</td>\n",
       "      <td>10.0</td>\n",
       "      <td>8.0</td>\n",
       "      <td>Basic</td>\n",
       "      <td>Monthly</td>\n",
       "      <td>557.0</td>\n",
       "      <td>6.0</td>\n",
       "      <td>1.0</td>\n",
       "    </tr>\n",
       "    <tr>\n",
       "      <th>2</th>\n",
       "      <td>4.0</td>\n",
       "      <td>55.0</td>\n",
       "      <td>Female</td>\n",
       "      <td>14.0</td>\n",
       "      <td>4.0</td>\n",
       "      <td>6.0</td>\n",
       "      <td>18.0</td>\n",
       "      <td>Basic</td>\n",
       "      <td>Quarterly</td>\n",
       "      <td>185.0</td>\n",
       "      <td>3.0</td>\n",
       "      <td>1.0</td>\n",
       "    </tr>\n",
       "    <tr>\n",
       "      <th>3</th>\n",
       "      <td>5.0</td>\n",
       "      <td>58.0</td>\n",
       "      <td>Male</td>\n",
       "      <td>38.0</td>\n",
       "      <td>21.0</td>\n",
       "      <td>7.0</td>\n",
       "      <td>7.0</td>\n",
       "      <td>Standard</td>\n",
       "      <td>Monthly</td>\n",
       "      <td>396.0</td>\n",
       "      <td>29.0</td>\n",
       "      <td>1.0</td>\n",
       "    </tr>\n",
       "    <tr>\n",
       "      <th>4</th>\n",
       "      <td>6.0</td>\n",
       "      <td>23.0</td>\n",
       "      <td>Male</td>\n",
       "      <td>32.0</td>\n",
       "      <td>20.0</td>\n",
       "      <td>5.0</td>\n",
       "      <td>8.0</td>\n",
       "      <td>Basic</td>\n",
       "      <td>Monthly</td>\n",
       "      <td>617.0</td>\n",
       "      <td>20.0</td>\n",
       "      <td>1.0</td>\n",
       "    </tr>\n",
       "  </tbody>\n",
       "</table>\n",
       "</div>"
      ],
      "text/plain": [
       "   CustomerID   Age  Gender  Tenure  Usage Frequency  Support Calls  \\\n",
       "0         2.0  30.0  Female    39.0             14.0            5.0   \n",
       "1         3.0  65.0  Female    49.0              1.0           10.0   \n",
       "2         4.0  55.0  Female    14.0              4.0            6.0   \n",
       "3         5.0  58.0    Male    38.0             21.0            7.0   \n",
       "4         6.0  23.0    Male    32.0             20.0            5.0   \n",
       "\n",
       "   Payment Delay Subscription Type Contract Length  Total Spend  \\\n",
       "0           18.0          Standard          Annual        932.0   \n",
       "1            8.0             Basic         Monthly        557.0   \n",
       "2           18.0             Basic       Quarterly        185.0   \n",
       "3            7.0          Standard         Monthly        396.0   \n",
       "4            8.0             Basic         Monthly        617.0   \n",
       "\n",
       "   Last Interaction  Churn  \n",
       "0              17.0    1.0  \n",
       "1               6.0    1.0  \n",
       "2               3.0    1.0  \n",
       "3              29.0    1.0  \n",
       "4              20.0    1.0  "
      ]
     },
     "execution_count": 208,
     "metadata": {},
     "output_type": "execute_result"
    }
   ],
   "source": [
    "import pandas as pd\n",
    "data = pd.read_csv(r\"datasets\\customer_churn\\customer_churn_dataset-training-master.csv\")\n",
    "data.head()"
   ]
  },
  {
   "cell_type": "markdown",
   "id": "9c4d3efa",
   "metadata": {},
   "source": [
    "_Getting info:_"
   ]
  },
  {
   "cell_type": "code",
   "execution_count": 209,
   "id": "b4d735be",
   "metadata": {},
   "outputs": [
    {
     "name": "stdout",
     "output_type": "stream",
     "text": [
      "<class 'pandas.core.frame.DataFrame'>\n",
      "RangeIndex: 440833 entries, 0 to 440832\n",
      "Data columns (total 12 columns):\n",
      " #   Column             Non-Null Count   Dtype  \n",
      "---  ------             --------------   -----  \n",
      " 0   CustomerID         440832 non-null  float64\n",
      " 1   Age                440832 non-null  float64\n",
      " 2   Gender             440832 non-null  object \n",
      " 3   Tenure             440832 non-null  float64\n",
      " 4   Usage Frequency    440832 non-null  float64\n",
      " 5   Support Calls      440832 non-null  float64\n",
      " 6   Payment Delay      440832 non-null  float64\n",
      " 7   Subscription Type  440832 non-null  object \n",
      " 8   Contract Length    440832 non-null  object \n",
      " 9   Total Spend        440832 non-null  float64\n",
      " 10  Last Interaction   440832 non-null  float64\n",
      " 11  Churn              440832 non-null  float64\n",
      "dtypes: float64(9), object(3)\n",
      "memory usage: 40.4+ MB\n"
     ]
    }
   ],
   "source": [
    "data.info()"
   ]
  },
  {
   "cell_type": "markdown",
   "id": "b698b061",
   "metadata": {},
   "source": [
    "_Using describe method:_"
   ]
  },
  {
   "cell_type": "code",
   "execution_count": 210,
   "id": "0658e4e2",
   "metadata": {},
   "outputs": [
    {
     "data": {
      "text/html": [
       "<div>\n",
       "<style scoped>\n",
       "    .dataframe tbody tr th:only-of-type {\n",
       "        vertical-align: middle;\n",
       "    }\n",
       "\n",
       "    .dataframe tbody tr th {\n",
       "        vertical-align: top;\n",
       "    }\n",
       "\n",
       "    .dataframe thead th {\n",
       "        text-align: right;\n",
       "    }\n",
       "</style>\n",
       "<table border=\"1\" class=\"dataframe\">\n",
       "  <thead>\n",
       "    <tr style=\"text-align: right;\">\n",
       "      <th></th>\n",
       "      <th>CustomerID</th>\n",
       "      <th>Age</th>\n",
       "      <th>Tenure</th>\n",
       "      <th>Usage Frequency</th>\n",
       "      <th>Support Calls</th>\n",
       "      <th>Payment Delay</th>\n",
       "      <th>Total Spend</th>\n",
       "      <th>Last Interaction</th>\n",
       "      <th>Churn</th>\n",
       "    </tr>\n",
       "  </thead>\n",
       "  <tbody>\n",
       "    <tr>\n",
       "      <th>count</th>\n",
       "      <td>440832.000000</td>\n",
       "      <td>440832.000000</td>\n",
       "      <td>440832.000000</td>\n",
       "      <td>440832.000000</td>\n",
       "      <td>440832.000000</td>\n",
       "      <td>440832.000000</td>\n",
       "      <td>440832.000000</td>\n",
       "      <td>440832.000000</td>\n",
       "      <td>440832.000000</td>\n",
       "    </tr>\n",
       "    <tr>\n",
       "      <th>mean</th>\n",
       "      <td>225398.667955</td>\n",
       "      <td>39.373153</td>\n",
       "      <td>31.256336</td>\n",
       "      <td>15.807494</td>\n",
       "      <td>3.604437</td>\n",
       "      <td>12.965722</td>\n",
       "      <td>631.616223</td>\n",
       "      <td>14.480868</td>\n",
       "      <td>0.567107</td>\n",
       "    </tr>\n",
       "    <tr>\n",
       "      <th>std</th>\n",
       "      <td>129531.918550</td>\n",
       "      <td>12.442369</td>\n",
       "      <td>17.255727</td>\n",
       "      <td>8.586242</td>\n",
       "      <td>3.070218</td>\n",
       "      <td>8.258063</td>\n",
       "      <td>240.803001</td>\n",
       "      <td>8.596208</td>\n",
       "      <td>0.495477</td>\n",
       "    </tr>\n",
       "    <tr>\n",
       "      <th>min</th>\n",
       "      <td>2.000000</td>\n",
       "      <td>18.000000</td>\n",
       "      <td>1.000000</td>\n",
       "      <td>1.000000</td>\n",
       "      <td>0.000000</td>\n",
       "      <td>0.000000</td>\n",
       "      <td>100.000000</td>\n",
       "      <td>1.000000</td>\n",
       "      <td>0.000000</td>\n",
       "    </tr>\n",
       "    <tr>\n",
       "      <th>25%</th>\n",
       "      <td>113621.750000</td>\n",
       "      <td>29.000000</td>\n",
       "      <td>16.000000</td>\n",
       "      <td>9.000000</td>\n",
       "      <td>1.000000</td>\n",
       "      <td>6.000000</td>\n",
       "      <td>480.000000</td>\n",
       "      <td>7.000000</td>\n",
       "      <td>0.000000</td>\n",
       "    </tr>\n",
       "    <tr>\n",
       "      <th>50%</th>\n",
       "      <td>226125.500000</td>\n",
       "      <td>39.000000</td>\n",
       "      <td>32.000000</td>\n",
       "      <td>16.000000</td>\n",
       "      <td>3.000000</td>\n",
       "      <td>12.000000</td>\n",
       "      <td>661.000000</td>\n",
       "      <td>14.000000</td>\n",
       "      <td>1.000000</td>\n",
       "    </tr>\n",
       "    <tr>\n",
       "      <th>75%</th>\n",
       "      <td>337739.250000</td>\n",
       "      <td>48.000000</td>\n",
       "      <td>46.000000</td>\n",
       "      <td>23.000000</td>\n",
       "      <td>6.000000</td>\n",
       "      <td>19.000000</td>\n",
       "      <td>830.000000</td>\n",
       "      <td>22.000000</td>\n",
       "      <td>1.000000</td>\n",
       "    </tr>\n",
       "    <tr>\n",
       "      <th>max</th>\n",
       "      <td>449999.000000</td>\n",
       "      <td>65.000000</td>\n",
       "      <td>60.000000</td>\n",
       "      <td>30.000000</td>\n",
       "      <td>10.000000</td>\n",
       "      <td>30.000000</td>\n",
       "      <td>1000.000000</td>\n",
       "      <td>30.000000</td>\n",
       "      <td>1.000000</td>\n",
       "    </tr>\n",
       "  </tbody>\n",
       "</table>\n",
       "</div>"
      ],
      "text/plain": [
       "          CustomerID            Age         Tenure  Usage Frequency  \\\n",
       "count  440832.000000  440832.000000  440832.000000    440832.000000   \n",
       "mean   225398.667955      39.373153      31.256336        15.807494   \n",
       "std    129531.918550      12.442369      17.255727         8.586242   \n",
       "min         2.000000      18.000000       1.000000         1.000000   \n",
       "25%    113621.750000      29.000000      16.000000         9.000000   \n",
       "50%    226125.500000      39.000000      32.000000        16.000000   \n",
       "75%    337739.250000      48.000000      46.000000        23.000000   \n",
       "max    449999.000000      65.000000      60.000000        30.000000   \n",
       "\n",
       "       Support Calls  Payment Delay    Total Spend  Last Interaction  \\\n",
       "count  440832.000000  440832.000000  440832.000000     440832.000000   \n",
       "mean        3.604437      12.965722     631.616223         14.480868   \n",
       "std         3.070218       8.258063     240.803001          8.596208   \n",
       "min         0.000000       0.000000     100.000000          1.000000   \n",
       "25%         1.000000       6.000000     480.000000          7.000000   \n",
       "50%         3.000000      12.000000     661.000000         14.000000   \n",
       "75%         6.000000      19.000000     830.000000         22.000000   \n",
       "max        10.000000      30.000000    1000.000000         30.000000   \n",
       "\n",
       "               Churn  \n",
       "count  440832.000000  \n",
       "mean        0.567107  \n",
       "std         0.495477  \n",
       "min         0.000000  \n",
       "25%         0.000000  \n",
       "50%         1.000000  \n",
       "75%         1.000000  \n",
       "max         1.000000  "
      ]
     },
     "execution_count": 210,
     "metadata": {},
     "output_type": "execute_result"
    }
   ],
   "source": [
    "data.describe()"
   ]
  },
  {
   "cell_type": "markdown",
   "id": "93208f7e",
   "metadata": {},
   "source": [
    "_Check lables:_"
   ]
  },
  {
   "cell_type": "code",
   "execution_count": 211,
   "id": "527223f3",
   "metadata": {},
   "outputs": [
    {
     "name": "stdout",
     "output_type": "stream",
     "text": [
      "Lables to classify: [ 1.  0. nan]\n"
     ]
    }
   ],
   "source": [
    "print(\"Lables to classify:\", data['Churn'].unique())"
   ]
  },
  {
   "cell_type": "markdown",
   "id": "d2c5a51c",
   "metadata": {},
   "source": [
    "_Drop null value:_"
   ]
  },
  {
   "cell_type": "code",
   "execution_count": 212,
   "id": "f0d065bf",
   "metadata": {},
   "outputs": [
    {
     "data": {
      "text/html": [
       "<div>\n",
       "<style scoped>\n",
       "    .dataframe tbody tr th:only-of-type {\n",
       "        vertical-align: middle;\n",
       "    }\n",
       "\n",
       "    .dataframe tbody tr th {\n",
       "        vertical-align: top;\n",
       "    }\n",
       "\n",
       "    .dataframe thead th {\n",
       "        text-align: right;\n",
       "    }\n",
       "</style>\n",
       "<table border=\"1\" class=\"dataframe\">\n",
       "  <thead>\n",
       "    <tr style=\"text-align: right;\">\n",
       "      <th></th>\n",
       "      <th>CustomerID</th>\n",
       "      <th>Age</th>\n",
       "      <th>Gender</th>\n",
       "      <th>Tenure</th>\n",
       "      <th>Usage Frequency</th>\n",
       "      <th>Support Calls</th>\n",
       "      <th>Payment Delay</th>\n",
       "      <th>Subscription Type</th>\n",
       "      <th>Contract Length</th>\n",
       "      <th>Total Spend</th>\n",
       "      <th>Last Interaction</th>\n",
       "      <th>Churn</th>\n",
       "    </tr>\n",
       "  </thead>\n",
       "  <tbody>\n",
       "    <tr>\n",
       "      <th>199295</th>\n",
       "      <td>NaN</td>\n",
       "      <td>NaN</td>\n",
       "      <td>NaN</td>\n",
       "      <td>NaN</td>\n",
       "      <td>NaN</td>\n",
       "      <td>NaN</td>\n",
       "      <td>NaN</td>\n",
       "      <td>NaN</td>\n",
       "      <td>NaN</td>\n",
       "      <td>NaN</td>\n",
       "      <td>NaN</td>\n",
       "      <td>NaN</td>\n",
       "    </tr>\n",
       "  </tbody>\n",
       "</table>\n",
       "</div>"
      ],
      "text/plain": [
       "        CustomerID  Age Gender  Tenure  Usage Frequency  Support Calls  \\\n",
       "199295         NaN  NaN    NaN     NaN              NaN            NaN   \n",
       "\n",
       "        Payment Delay Subscription Type Contract Length  Total Spend  \\\n",
       "199295            NaN               NaN             NaN          NaN   \n",
       "\n",
       "        Last Interaction  Churn  \n",
       "199295               NaN    NaN  "
      ]
     },
     "execution_count": 212,
     "metadata": {},
     "output_type": "execute_result"
    }
   ],
   "source": [
    "data[data.isna().any(axis=1)]"
   ]
  },
  {
   "cell_type": "code",
   "execution_count": 213,
   "id": "c49d7b89",
   "metadata": {},
   "outputs": [],
   "source": [
    "data.drop(199295,axis=0,inplace=True)"
   ]
  },
  {
   "cell_type": "markdown",
   "id": "b3232ed9",
   "metadata": {},
   "source": [
    "_drop 'CustomerID' too, its of no use_"
   ]
  },
  {
   "cell_type": "code",
   "execution_count": 214,
   "id": "60052213",
   "metadata": {},
   "outputs": [],
   "source": [
    "data.drop('CustomerID',axis=1,inplace=True)"
   ]
  },
  {
   "cell_type": "markdown",
   "id": "7612b1e6",
   "metadata": {},
   "source": [
    "_This is a big data we will use a portion of it:_"
   ]
  },
  {
   "cell_type": "code",
   "execution_count": 215,
   "id": "cc7f1914",
   "metadata": {},
   "outputs": [],
   "source": [
    "# separate X,y\n",
    "X = data.iloc[:,:-1]\n",
    "y = data['Churn']"
   ]
  },
  {
   "cell_type": "code",
   "execution_count": 220,
   "id": "ab9b567f",
   "metadata": {},
   "outputs": [],
   "source": [
    "from sklearn.model_selection import train_test_split\n",
    "import numpy as np\n",
    "X_train, X_remove, y_train, y_remove = train_test_split(X,y,train_size=0.1,shuffle=True,stratify=y)"
   ]
  },
  {
   "cell_type": "markdown",
   "id": "db29d2b8",
   "metadata": {},
   "source": [
    "_Correlation:_"
   ]
  },
  {
   "cell_type": "code",
   "execution_count": 221,
   "id": "65b895dd",
   "metadata": {},
   "outputs": [
    {
     "data": {
      "text/plain": [
       "Churn               1.000000\n",
       "Support Calls       0.574267\n",
       "Payment Delay       0.312129\n",
       "Age                 0.218394\n",
       "Last Interaction    0.149616\n",
       "Usage Frequency    -0.046101\n",
       "Tenure             -0.051919\n",
       "Total Spend        -0.429355\n",
       "Name: Churn, dtype: float64"
      ]
     },
     "execution_count": 221,
     "metadata": {},
     "output_type": "execute_result"
    }
   ],
   "source": [
    "## Feature importances/ Correlation\n",
    "numerical_features = ['Age','Tenure','Usage Frequency','Support Calls','Payment Delay','Total Spend','Last Interaction','Churn']\n",
    "corr_mat = data[numerical_features].corr()['Churn']\n",
    "corr_mat.sort_values(ascending=False)"
   ]
  },
  {
   "cell_type": "markdown",
   "id": "40eec014",
   "metadata": {},
   "source": [
    "_Data Preparation_:\n",
    "- Scaling and Encoding"
   ]
  },
  {
   "cell_type": "code",
   "execution_count": 222,
   "id": "9db52c8c",
   "metadata": {},
   "outputs": [
    {
     "name": "stdout",
     "output_type": "stream",
     "text": [
      "Index(['Age', 'Gender', 'Tenure', 'Usage Frequency', 'Support Calls',\n",
      "       'Payment Delay', 'Subscription Type', 'Contract Length', 'Total Spend',\n",
      "       'Last Interaction'],\n",
      "      dtype='object')\n"
     ]
    }
   ],
   "source": [
    "print(X_train.columns)"
   ]
  },
  {
   "cell_type": "code",
   "execution_count": 223,
   "id": "59ae10d1",
   "metadata": {},
   "outputs": [],
   "source": [
    "from sklearn.compose import ColumnTransformer\n",
    "from sklearn.preprocessing import OneHotEncoder, StandardScaler\n",
    "\n",
    "numerical_cols = ['Age','Tenure','Usage Frequency','Support Calls','Payment Delay','Total Spend','Last Interaction']\n",
    "categorical_cols = ['Gender','Subscription Type','Contract Length']\n",
    "\n",
    "prep_pipe = ColumnTransformer([\n",
    "    ('scaler',StandardScaler(),numerical_cols),\n",
    "    ('ohe',OneHotEncoder(),categorical_cols)\n",
    "])\n",
    "\n",
    "X_train_prepared = prep_pipe.fit_transform(X_train)"
   ]
  },
  {
   "cell_type": "code",
   "execution_count": 224,
   "id": "976f9c88",
   "metadata": {},
   "outputs": [
    {
     "data": {
      "text/html": [
       "<div>\n",
       "<style scoped>\n",
       "    .dataframe tbody tr th:only-of-type {\n",
       "        vertical-align: middle;\n",
       "    }\n",
       "\n",
       "    .dataframe tbody tr th {\n",
       "        vertical-align: top;\n",
       "    }\n",
       "\n",
       "    .dataframe thead th {\n",
       "        text-align: right;\n",
       "    }\n",
       "</style>\n",
       "<table border=\"1\" class=\"dataframe\">\n",
       "  <thead>\n",
       "    <tr style=\"text-align: right;\">\n",
       "      <th></th>\n",
       "      <th>Age</th>\n",
       "      <th>Tenure</th>\n",
       "      <th>Usage Frequency</th>\n",
       "      <th>Support Calls</th>\n",
       "      <th>Payment Delay</th>\n",
       "      <th>Total Spend</th>\n",
       "      <th>Last Interaction</th>\n",
       "      <th>Gender_Female</th>\n",
       "      <th>Gender_Male</th>\n",
       "      <th>Subscription Type_Basic</th>\n",
       "      <th>Subscription Type_Premium</th>\n",
       "      <th>Subscription Type_Standard</th>\n",
       "      <th>Contract Length_Annual</th>\n",
       "      <th>Contract Length_Monthly</th>\n",
       "      <th>Contract Length_Quarterly</th>\n",
       "    </tr>\n",
       "  </thead>\n",
       "  <tbody>\n",
       "    <tr>\n",
       "      <th>0</th>\n",
       "      <td>-0.748501</td>\n",
       "      <td>1.307646</td>\n",
       "      <td>0.142838</td>\n",
       "      <td>-0.526878</td>\n",
       "      <td>0.610234</td>\n",
       "      <td>-0.328072</td>\n",
       "      <td>0.990405</td>\n",
       "      <td>0.0</td>\n",
       "      <td>1.0</td>\n",
       "      <td>0.0</td>\n",
       "      <td>1.0</td>\n",
       "      <td>0.0</td>\n",
       "      <td>0.0</td>\n",
       "      <td>0.0</td>\n",
       "      <td>1.0</td>\n",
       "    </tr>\n",
       "    <tr>\n",
       "      <th>1</th>\n",
       "      <td>0.782763</td>\n",
       "      <td>0.325686</td>\n",
       "      <td>-0.905217</td>\n",
       "      <td>-1.176103</td>\n",
       "      <td>-0.479471</td>\n",
       "      <td>0.978654</td>\n",
       "      <td>-1.221785</td>\n",
       "      <td>1.0</td>\n",
       "      <td>0.0</td>\n",
       "      <td>1.0</td>\n",
       "      <td>0.0</td>\n",
       "      <td>0.0</td>\n",
       "      <td>1.0</td>\n",
       "      <td>0.0</td>\n",
       "      <td>0.0</td>\n",
       "    </tr>\n",
       "    <tr>\n",
       "      <th>2</th>\n",
       "      <td>0.540985</td>\n",
       "      <td>0.325686</td>\n",
       "      <td>-1.138118</td>\n",
       "      <td>-0.202265</td>\n",
       "      <td>0.125921</td>\n",
       "      <td>-0.395235</td>\n",
       "      <td>0.524681</td>\n",
       "      <td>0.0</td>\n",
       "      <td>1.0</td>\n",
       "      <td>0.0</td>\n",
       "      <td>0.0</td>\n",
       "      <td>1.0</td>\n",
       "      <td>0.0</td>\n",
       "      <td>0.0</td>\n",
       "      <td>1.0</td>\n",
       "    </tr>\n",
       "    <tr>\n",
       "      <th>3</th>\n",
       "      <td>1.669285</td>\n",
       "      <td>-0.482986</td>\n",
       "      <td>0.375739</td>\n",
       "      <td>0.446960</td>\n",
       "      <td>1.699938</td>\n",
       "      <td>-0.884734</td>\n",
       "      <td>0.990405</td>\n",
       "      <td>0.0</td>\n",
       "      <td>1.0</td>\n",
       "      <td>0.0</td>\n",
       "      <td>0.0</td>\n",
       "      <td>1.0</td>\n",
       "      <td>0.0</td>\n",
       "      <td>1.0</td>\n",
       "      <td>0.0</td>\n",
       "    </tr>\n",
       "    <tr>\n",
       "      <th>4</th>\n",
       "      <td>-1.393244</td>\n",
       "      <td>-0.945085</td>\n",
       "      <td>-0.322964</td>\n",
       "      <td>0.771572</td>\n",
       "      <td>0.731312</td>\n",
       "      <td>-1.473443</td>\n",
       "      <td>-1.571079</td>\n",
       "      <td>1.0</td>\n",
       "      <td>0.0</td>\n",
       "      <td>0.0</td>\n",
       "      <td>0.0</td>\n",
       "      <td>1.0</td>\n",
       "      <td>0.0</td>\n",
       "      <td>1.0</td>\n",
       "      <td>0.0</td>\n",
       "    </tr>\n",
       "    <tr>\n",
       "      <th>...</th>\n",
       "      <td>...</td>\n",
       "      <td>...</td>\n",
       "      <td>...</td>\n",
       "      <td>...</td>\n",
       "      <td>...</td>\n",
       "      <td>...</td>\n",
       "      <td>...</td>\n",
       "      <td>...</td>\n",
       "      <td>...</td>\n",
       "      <td>...</td>\n",
       "      <td>...</td>\n",
       "      <td>...</td>\n",
       "      <td>...</td>\n",
       "      <td>...</td>\n",
       "      <td>...</td>\n",
       "    </tr>\n",
       "    <tr>\n",
       "      <th>44078</th>\n",
       "      <td>-0.587315</td>\n",
       "      <td>1.307646</td>\n",
       "      <td>-0.788766</td>\n",
       "      <td>0.446960</td>\n",
       "      <td>1.336703</td>\n",
       "      <td>-1.170797</td>\n",
       "      <td>0.641112</td>\n",
       "      <td>1.0</td>\n",
       "      <td>0.0</td>\n",
       "      <td>0.0</td>\n",
       "      <td>1.0</td>\n",
       "      <td>0.0</td>\n",
       "      <td>0.0</td>\n",
       "      <td>0.0</td>\n",
       "      <td>1.0</td>\n",
       "    </tr>\n",
       "    <tr>\n",
       "      <th>44079</th>\n",
       "      <td>-1.473836</td>\n",
       "      <td>-1.695995</td>\n",
       "      <td>0.492189</td>\n",
       "      <td>0.771572</td>\n",
       "      <td>0.246999</td>\n",
       "      <td>-0.333338</td>\n",
       "      <td>-0.290337</td>\n",
       "      <td>0.0</td>\n",
       "      <td>1.0</td>\n",
       "      <td>0.0</td>\n",
       "      <td>1.0</td>\n",
       "      <td>0.0</td>\n",
       "      <td>0.0</td>\n",
       "      <td>1.0</td>\n",
       "      <td>0.0</td>\n",
       "    </tr>\n",
       "    <tr>\n",
       "      <th>44080</th>\n",
       "      <td>0.299206</td>\n",
       "      <td>-0.771798</td>\n",
       "      <td>0.957991</td>\n",
       "      <td>-1.176103</td>\n",
       "      <td>-0.963784</td>\n",
       "      <td>-2.132631</td>\n",
       "      <td>1.572560</td>\n",
       "      <td>1.0</td>\n",
       "      <td>0.0</td>\n",
       "      <td>0.0</td>\n",
       "      <td>0.0</td>\n",
       "      <td>1.0</td>\n",
       "      <td>0.0</td>\n",
       "      <td>0.0</td>\n",
       "      <td>1.0</td>\n",
       "    </tr>\n",
       "    <tr>\n",
       "      <th>44081</th>\n",
       "      <td>-0.264944</td>\n",
       "      <td>-1.002847</td>\n",
       "      <td>0.492189</td>\n",
       "      <td>1.420797</td>\n",
       "      <td>1.336703</td>\n",
       "      <td>-0.300171</td>\n",
       "      <td>-1.571079</td>\n",
       "      <td>1.0</td>\n",
       "      <td>0.0</td>\n",
       "      <td>0.0</td>\n",
       "      <td>1.0</td>\n",
       "      <td>0.0</td>\n",
       "      <td>1.0</td>\n",
       "      <td>0.0</td>\n",
       "      <td>0.0</td>\n",
       "    </tr>\n",
       "    <tr>\n",
       "      <th>44082</th>\n",
       "      <td>-1.312651</td>\n",
       "      <td>1.307646</td>\n",
       "      <td>-0.905217</td>\n",
       "      <td>2.070023</td>\n",
       "      <td>-0.842706</td>\n",
       "      <td>-0.681588</td>\n",
       "      <td>0.757543</td>\n",
       "      <td>1.0</td>\n",
       "      <td>0.0</td>\n",
       "      <td>1.0</td>\n",
       "      <td>0.0</td>\n",
       "      <td>0.0</td>\n",
       "      <td>0.0</td>\n",
       "      <td>0.0</td>\n",
       "      <td>1.0</td>\n",
       "    </tr>\n",
       "  </tbody>\n",
       "</table>\n",
       "<p>44083 rows × 15 columns</p>\n",
       "</div>"
      ],
      "text/plain": [
       "            Age    Tenure  Usage Frequency  Support Calls  Payment Delay  \\\n",
       "0     -0.748501  1.307646         0.142838      -0.526878       0.610234   \n",
       "1      0.782763  0.325686        -0.905217      -1.176103      -0.479471   \n",
       "2      0.540985  0.325686        -1.138118      -0.202265       0.125921   \n",
       "3      1.669285 -0.482986         0.375739       0.446960       1.699938   \n",
       "4     -1.393244 -0.945085        -0.322964       0.771572       0.731312   \n",
       "...         ...       ...              ...            ...            ...   \n",
       "44078 -0.587315  1.307646        -0.788766       0.446960       1.336703   \n",
       "44079 -1.473836 -1.695995         0.492189       0.771572       0.246999   \n",
       "44080  0.299206 -0.771798         0.957991      -1.176103      -0.963784   \n",
       "44081 -0.264944 -1.002847         0.492189       1.420797       1.336703   \n",
       "44082 -1.312651  1.307646        -0.905217       2.070023      -0.842706   \n",
       "\n",
       "       Total Spend  Last Interaction  Gender_Female  Gender_Male  \\\n",
       "0        -0.328072          0.990405            0.0          1.0   \n",
       "1         0.978654         -1.221785            1.0          0.0   \n",
       "2        -0.395235          0.524681            0.0          1.0   \n",
       "3        -0.884734          0.990405            0.0          1.0   \n",
       "4        -1.473443         -1.571079            1.0          0.0   \n",
       "...            ...               ...            ...          ...   \n",
       "44078    -1.170797          0.641112            1.0          0.0   \n",
       "44079    -0.333338         -0.290337            0.0          1.0   \n",
       "44080    -2.132631          1.572560            1.0          0.0   \n",
       "44081    -0.300171         -1.571079            1.0          0.0   \n",
       "44082    -0.681588          0.757543            1.0          0.0   \n",
       "\n",
       "       Subscription Type_Basic  Subscription Type_Premium  \\\n",
       "0                          0.0                        1.0   \n",
       "1                          1.0                        0.0   \n",
       "2                          0.0                        0.0   \n",
       "3                          0.0                        0.0   \n",
       "4                          0.0                        0.0   \n",
       "...                        ...                        ...   \n",
       "44078                      0.0                        1.0   \n",
       "44079                      0.0                        1.0   \n",
       "44080                      0.0                        0.0   \n",
       "44081                      0.0                        1.0   \n",
       "44082                      1.0                        0.0   \n",
       "\n",
       "       Subscription Type_Standard  Contract Length_Annual  \\\n",
       "0                             0.0                     0.0   \n",
       "1                             0.0                     1.0   \n",
       "2                             1.0                     0.0   \n",
       "3                             1.0                     0.0   \n",
       "4                             1.0                     0.0   \n",
       "...                           ...                     ...   \n",
       "44078                         0.0                     0.0   \n",
       "44079                         0.0                     0.0   \n",
       "44080                         1.0                     0.0   \n",
       "44081                         0.0                     1.0   \n",
       "44082                         0.0                     0.0   \n",
       "\n",
       "       Contract Length_Monthly  Contract Length_Quarterly  \n",
       "0                          0.0                        1.0  \n",
       "1                          0.0                        0.0  \n",
       "2                          0.0                        1.0  \n",
       "3                          1.0                        0.0  \n",
       "4                          1.0                        0.0  \n",
       "...                        ...                        ...  \n",
       "44078                      0.0                        1.0  \n",
       "44079                      1.0                        0.0  \n",
       "44080                      0.0                        1.0  \n",
       "44081                      0.0                        0.0  \n",
       "44082                      0.0                        1.0  \n",
       "\n",
       "[44083 rows x 15 columns]"
      ]
     },
     "execution_count": 224,
     "metadata": {},
     "output_type": "execute_result"
    }
   ],
   "source": [
    "##See the result\n",
    "column_names = (\n",
    "    list(prep_pipe.named_transformers_['scaler'].get_feature_names_out(numerical_cols))\n",
    "    + list(prep_pipe.named_transformers_['ohe'].get_feature_names_out(categorical_cols))\n",
    ")\n",
    "\n",
    "df_transformed = pd.DataFrame(X_train_prepared, columns=column_names)\n",
    "df_transformed"
   ]
  },
  {
   "cell_type": "markdown",
   "id": "16d30fad",
   "metadata": {},
   "source": [
    "### Build the architecture"
   ]
  },
  {
   "cell_type": "code",
   "execution_count": 225,
   "id": "51ec26e5",
   "metadata": {},
   "outputs": [],
   "source": [
    "import tensorflow\n",
    "from tensorflow import keras\n",
    "from tensorflow.keras import Sequential\n",
    "from tensorflow.keras.layers import Dense, Input"
   ]
  },
  {
   "cell_type": "code",
   "execution_count": 226,
   "id": "33178c95",
   "metadata": {},
   "outputs": [],
   "source": [
    "#There are two types of models: Sequential-layers stacked on after another, Non-Sequential\n",
    "model = Sequential()  \n",
    "\n",
    "\n",
    "#first layer is input layer with 15 neurons(for 15 inputs)\n",
    "#activation function used is sigmoid\n",
    "model.add(Input(shape=(X_train_prepared.shape[1],)))\n",
    "\n",
    "#We adding dense layer: each in a layer is connected to each neuron in previous layer\n",
    "#Hidden layer with 10 neurons\n",
    "model.add(Dense(10,activation='sigmoid'))\n",
    "\n",
    "#Hidden layer with 5 neurons\n",
    "model.add(Dense(10,activation='sigmoid'))\n",
    "\n",
    "#Hidden layer with 5 neurons\n",
    "model.add(Dense(10,activation='sigmoid'))\n",
    "\n",
    "#Output layer\n",
    "model.add(Dense(1,activation='sigmoid'))"
   ]
  },
  {
   "cell_type": "code",
   "execution_count": 227,
   "id": "bd88533d",
   "metadata": {},
   "outputs": [
    {
     "data": {
      "text/html": [
       "<pre style=\"white-space:pre;overflow-x:auto;line-height:normal;font-family:Menlo,'DejaVu Sans Mono',consolas,'Courier New',monospace\"><span style=\"font-weight: bold\">Model: \"sequential_5\"</span>\n",
       "</pre>\n"
      ],
      "text/plain": [
       "\u001b[1mModel: \"sequential_5\"\u001b[0m\n"
      ]
     },
     "metadata": {},
     "output_type": "display_data"
    },
    {
     "data": {
      "text/html": [
       "<pre style=\"white-space:pre;overflow-x:auto;line-height:normal;font-family:Menlo,'DejaVu Sans Mono',consolas,'Courier New',monospace\">┏━━━━━━━━━━━━━━━━━━━━━━━━━━━━━━━━━┳━━━━━━━━━━━━━━━━━━━━━━━━┳━━━━━━━━━━━━━━━┓\n",
       "┃<span style=\"font-weight: bold\"> Layer (type)                    </span>┃<span style=\"font-weight: bold\"> Output Shape           </span>┃<span style=\"font-weight: bold\">       Param # </span>┃\n",
       "┡━━━━━━━━━━━━━━━━━━━━━━━━━━━━━━━━━╇━━━━━━━━━━━━━━━━━━━━━━━━╇━━━━━━━━━━━━━━━┩\n",
       "│ dense_11 (<span style=\"color: #0087ff; text-decoration-color: #0087ff\">Dense</span>)                │ (<span style=\"color: #00d7ff; text-decoration-color: #00d7ff\">None</span>, <span style=\"color: #00af00; text-decoration-color: #00af00\">10</span>)             │           <span style=\"color: #00af00; text-decoration-color: #00af00\">160</span> │\n",
       "├─────────────────────────────────┼────────────────────────┼───────────────┤\n",
       "│ dense_12 (<span style=\"color: #0087ff; text-decoration-color: #0087ff\">Dense</span>)                │ (<span style=\"color: #00d7ff; text-decoration-color: #00d7ff\">None</span>, <span style=\"color: #00af00; text-decoration-color: #00af00\">10</span>)             │           <span style=\"color: #00af00; text-decoration-color: #00af00\">110</span> │\n",
       "├─────────────────────────────────┼────────────────────────┼───────────────┤\n",
       "│ dense_13 (<span style=\"color: #0087ff; text-decoration-color: #0087ff\">Dense</span>)                │ (<span style=\"color: #00d7ff; text-decoration-color: #00d7ff\">None</span>, <span style=\"color: #00af00; text-decoration-color: #00af00\">10</span>)             │           <span style=\"color: #00af00; text-decoration-color: #00af00\">110</span> │\n",
       "├─────────────────────────────────┼────────────────────────┼───────────────┤\n",
       "│ dense_14 (<span style=\"color: #0087ff; text-decoration-color: #0087ff\">Dense</span>)                │ (<span style=\"color: #00d7ff; text-decoration-color: #00d7ff\">None</span>, <span style=\"color: #00af00; text-decoration-color: #00af00\">1</span>)              │            <span style=\"color: #00af00; text-decoration-color: #00af00\">11</span> │\n",
       "└─────────────────────────────────┴────────────────────────┴───────────────┘\n",
       "</pre>\n"
      ],
      "text/plain": [
       "┏━━━━━━━━━━━━━━━━━━━━━━━━━━━━━━━━━┳━━━━━━━━━━━━━━━━━━━━━━━━┳━━━━━━━━━━━━━━━┓\n",
       "┃\u001b[1m \u001b[0m\u001b[1mLayer (type)                   \u001b[0m\u001b[1m \u001b[0m┃\u001b[1m \u001b[0m\u001b[1mOutput Shape          \u001b[0m\u001b[1m \u001b[0m┃\u001b[1m \u001b[0m\u001b[1m      Param #\u001b[0m\u001b[1m \u001b[0m┃\n",
       "┡━━━━━━━━━━━━━━━━━━━━━━━━━━━━━━━━━╇━━━━━━━━━━━━━━━━━━━━━━━━╇━━━━━━━━━━━━━━━┩\n",
       "│ dense_11 (\u001b[38;5;33mDense\u001b[0m)                │ (\u001b[38;5;45mNone\u001b[0m, \u001b[38;5;34m10\u001b[0m)             │           \u001b[38;5;34m160\u001b[0m │\n",
       "├─────────────────────────────────┼────────────────────────┼───────────────┤\n",
       "│ dense_12 (\u001b[38;5;33mDense\u001b[0m)                │ (\u001b[38;5;45mNone\u001b[0m, \u001b[38;5;34m10\u001b[0m)             │           \u001b[38;5;34m110\u001b[0m │\n",
       "├─────────────────────────────────┼────────────────────────┼───────────────┤\n",
       "│ dense_13 (\u001b[38;5;33mDense\u001b[0m)                │ (\u001b[38;5;45mNone\u001b[0m, \u001b[38;5;34m10\u001b[0m)             │           \u001b[38;5;34m110\u001b[0m │\n",
       "├─────────────────────────────────┼────────────────────────┼───────────────┤\n",
       "│ dense_14 (\u001b[38;5;33mDense\u001b[0m)                │ (\u001b[38;5;45mNone\u001b[0m, \u001b[38;5;34m1\u001b[0m)              │            \u001b[38;5;34m11\u001b[0m │\n",
       "└─────────────────────────────────┴────────────────────────┴───────────────┘\n"
      ]
     },
     "metadata": {},
     "output_type": "display_data"
    },
    {
     "data": {
      "text/html": [
       "<pre style=\"white-space:pre;overflow-x:auto;line-height:normal;font-family:Menlo,'DejaVu Sans Mono',consolas,'Courier New',monospace\"><span style=\"font-weight: bold\"> Total params: </span><span style=\"color: #00af00; text-decoration-color: #00af00\">391</span> (1.53 KB)\n",
       "</pre>\n"
      ],
      "text/plain": [
       "\u001b[1m Total params: \u001b[0m\u001b[38;5;34m391\u001b[0m (1.53 KB)\n"
      ]
     },
     "metadata": {},
     "output_type": "display_data"
    },
    {
     "data": {
      "text/html": [
       "<pre style=\"white-space:pre;overflow-x:auto;line-height:normal;font-family:Menlo,'DejaVu Sans Mono',consolas,'Courier New',monospace\"><span style=\"font-weight: bold\"> Trainable params: </span><span style=\"color: #00af00; text-decoration-color: #00af00\">391</span> (1.53 KB)\n",
       "</pre>\n"
      ],
      "text/plain": [
       "\u001b[1m Trainable params: \u001b[0m\u001b[38;5;34m391\u001b[0m (1.53 KB)\n"
      ]
     },
     "metadata": {},
     "output_type": "display_data"
    },
    {
     "data": {
      "text/html": [
       "<pre style=\"white-space:pre;overflow-x:auto;line-height:normal;font-family:Menlo,'DejaVu Sans Mono',consolas,'Courier New',monospace\"><span style=\"font-weight: bold\"> Non-trainable params: </span><span style=\"color: #00af00; text-decoration-color: #00af00\">0</span> (0.00 B)\n",
       "</pre>\n"
      ],
      "text/plain": [
       "\u001b[1m Non-trainable params: \u001b[0m\u001b[38;5;34m0\u001b[0m (0.00 B)\n"
      ]
     },
     "metadata": {},
     "output_type": "display_data"
    }
   ],
   "source": [
    "##Summary about model\n",
    "model.summary()"
   ]
  },
  {
   "cell_type": "code",
   "execution_count": 228,
   "id": "25a9ff6c",
   "metadata": {},
   "outputs": [],
   "source": [
    "##Compile the model\n",
    "model.compile(loss='binary_crossentropy',optimizer='Adam',metrics=['accuracy'])  \n",
    "# binary_crossentropy means log-loss function (which is for binary classification problems as we are facing)\n",
    "# optimizer = 'Adam', there are more optimiers, but Adam is good for SGD"
   ]
  },
  {
   "cell_type": "code",
   "execution_count": 229,
   "id": "3dc06112",
   "metadata": {},
   "outputs": [
    {
     "name": "stdout",
     "output_type": "stream",
     "text": [
      "Epoch 1/50\n",
      "\u001b[1m1103/1103\u001b[0m \u001b[32m━━━━━━━━━━━━━━━━━━━━\u001b[0m\u001b[37m\u001b[0m \u001b[1m5s\u001b[0m 3ms/step - accuracy: 0.7937 - loss: 0.4254 - val_accuracy: 0.8938 - val_loss: 0.2564\n",
      "Epoch 2/50\n",
      "\u001b[1m1103/1103\u001b[0m \u001b[32m━━━━━━━━━━━━━━━━━━━━\u001b[0m\u001b[37m\u001b[0m \u001b[1m3s\u001b[0m 3ms/step - accuracy: 0.9003 - loss: 0.2431 - val_accuracy: 0.9058 - val_loss: 0.2279\n",
      "Epoch 3/50\n",
      "\u001b[1m1103/1103\u001b[0m \u001b[32m━━━━━━━━━━━━━━━━━━━━\u001b[0m\u001b[37m\u001b[0m \u001b[1m3s\u001b[0m 3ms/step - accuracy: 0.9131 - loss: 0.2133 - val_accuracy: 0.9236 - val_loss: 0.1910\n",
      "Epoch 4/50\n",
      "\u001b[1m1103/1103\u001b[0m \u001b[32m━━━━━━━━━━━━━━━━━━━━\u001b[0m\u001b[37m\u001b[0m \u001b[1m3s\u001b[0m 2ms/step - accuracy: 0.9340 - loss: 0.1720 - val_accuracy: 0.9434 - val_loss: 0.1485\n",
      "Epoch 5/50\n",
      "\u001b[1m1103/1103\u001b[0m \u001b[32m━━━━━━━━━━━━━━━━━━━━\u001b[0m\u001b[37m\u001b[0m \u001b[1m3s\u001b[0m 3ms/step - accuracy: 0.9514 - loss: 0.1348 - val_accuracy: 0.9551 - val_loss: 0.1220\n",
      "Epoch 6/50\n",
      "\u001b[1m1103/1103\u001b[0m \u001b[32m━━━━━━━━━━━━━━━━━━━━\u001b[0m\u001b[37m\u001b[0m \u001b[1m5s\u001b[0m 2ms/step - accuracy: 0.9596 - loss: 0.1149 - val_accuracy: 0.9608 - val_loss: 0.1055\n",
      "Epoch 7/50\n",
      "\u001b[1m1103/1103\u001b[0m \u001b[32m━━━━━━━━━━━━━━━━━━━━\u001b[0m\u001b[37m\u001b[0m \u001b[1m3s\u001b[0m 3ms/step - accuracy: 0.9649 - loss: 0.1030 - val_accuracy: 0.9661 - val_loss: 0.0949\n",
      "Epoch 8/50\n",
      "\u001b[1m1103/1103\u001b[0m \u001b[32m━━━━━━━━━━━━━━━━━━━━\u001b[0m\u001b[37m\u001b[0m \u001b[1m3s\u001b[0m 3ms/step - accuracy: 0.9676 - loss: 0.0946 - val_accuracy: 0.9671 - val_loss: 0.0906\n",
      "Epoch 9/50\n",
      "\u001b[1m1103/1103\u001b[0m \u001b[32m━━━━━━━━━━━━━━━━━━━━\u001b[0m\u001b[37m\u001b[0m \u001b[1m3s\u001b[0m 3ms/step - accuracy: 0.9696 - loss: 0.0884 - val_accuracy: 0.9713 - val_loss: 0.0813\n",
      "Epoch 10/50\n",
      "\u001b[1m1103/1103\u001b[0m \u001b[32m━━━━━━━━━━━━━━━━━━━━\u001b[0m\u001b[37m\u001b[0m \u001b[1m3s\u001b[0m 3ms/step - accuracy: 0.9713 - loss: 0.0839 - val_accuracy: 0.9702 - val_loss: 0.0825\n",
      "Epoch 11/50\n",
      "\u001b[1m1103/1103\u001b[0m \u001b[32m━━━━━━━━━━━━━━━━━━━━\u001b[0m\u001b[37m\u001b[0m \u001b[1m3s\u001b[0m 3ms/step - accuracy: 0.9726 - loss: 0.0805 - val_accuracy: 0.9750 - val_loss: 0.0734\n",
      "Epoch 12/50\n",
      "\u001b[1m1103/1103\u001b[0m \u001b[32m━━━━━━━━━━━━━━━━━━━━\u001b[0m\u001b[37m\u001b[0m \u001b[1m3s\u001b[0m 3ms/step - accuracy: 0.9732 - loss: 0.0778 - val_accuracy: 0.9754 - val_loss: 0.0717\n",
      "Epoch 13/50\n",
      "\u001b[1m1103/1103\u001b[0m \u001b[32m━━━━━━━━━━━━━━━━━━━━\u001b[0m\u001b[37m\u001b[0m \u001b[1m3s\u001b[0m 3ms/step - accuracy: 0.9747 - loss: 0.0754 - val_accuracy: 0.9761 - val_loss: 0.0693\n",
      "Epoch 14/50\n",
      "\u001b[1m1103/1103\u001b[0m \u001b[32m━━━━━━━━━━━━━━━━━━━━\u001b[0m\u001b[37m\u001b[0m \u001b[1m3s\u001b[0m 3ms/step - accuracy: 0.9752 - loss: 0.0737 - val_accuracy: 0.9746 - val_loss: 0.0681\n",
      "Epoch 15/50\n",
      "\u001b[1m1103/1103\u001b[0m \u001b[32m━━━━━━━━━━━━━━━━━━━━\u001b[0m\u001b[37m\u001b[0m \u001b[1m3s\u001b[0m 2ms/step - accuracy: 0.9757 - loss: 0.0720 - val_accuracy: 0.9772 - val_loss: 0.0650\n",
      "Epoch 16/50\n",
      "\u001b[1m1103/1103\u001b[0m \u001b[32m━━━━━━━━━━━━━━━━━━━━\u001b[0m\u001b[37m\u001b[0m \u001b[1m3s\u001b[0m 3ms/step - accuracy: 0.9767 - loss: 0.0704 - val_accuracy: 0.9779 - val_loss: 0.0644\n",
      "Epoch 17/50\n",
      "\u001b[1m1103/1103\u001b[0m \u001b[32m━━━━━━━━━━━━━━━━━━━━\u001b[0m\u001b[37m\u001b[0m \u001b[1m3s\u001b[0m 2ms/step - accuracy: 0.9767 - loss: 0.0692 - val_accuracy: 0.9774 - val_loss: 0.0639\n",
      "Epoch 18/50\n",
      "\u001b[1m1103/1103\u001b[0m \u001b[32m━━━━━━━━━━━━━━━━━━━━\u001b[0m\u001b[37m\u001b[0m \u001b[1m5s\u001b[0m 3ms/step - accuracy: 0.9770 - loss: 0.0678 - val_accuracy: 0.9780 - val_loss: 0.0622\n",
      "Epoch 19/50\n",
      "\u001b[1m1103/1103\u001b[0m \u001b[32m━━━━━━━━━━━━━━━━━━━━\u001b[0m\u001b[37m\u001b[0m \u001b[1m3s\u001b[0m 3ms/step - accuracy: 0.9771 - loss: 0.0666 - val_accuracy: 0.9783 - val_loss: 0.0604\n",
      "Epoch 20/50\n",
      "\u001b[1m1103/1103\u001b[0m \u001b[32m━━━━━━━━━━━━━━━━━━━━\u001b[0m\u001b[37m\u001b[0m \u001b[1m3s\u001b[0m 2ms/step - accuracy: 0.9776 - loss: 0.0655 - val_accuracy: 0.9782 - val_loss: 0.0605\n",
      "Epoch 21/50\n",
      "\u001b[1m1103/1103\u001b[0m \u001b[32m━━━━━━━━━━━━━━━━━━━━\u001b[0m\u001b[37m\u001b[0m \u001b[1m3s\u001b[0m 2ms/step - accuracy: 0.9780 - loss: 0.0641 - val_accuracy: 0.9767 - val_loss: 0.0631\n",
      "Epoch 22/50\n",
      "\u001b[1m1103/1103\u001b[0m \u001b[32m━━━━━━━━━━━━━━━━━━━━\u001b[0m\u001b[37m\u001b[0m \u001b[1m3s\u001b[0m 3ms/step - accuracy: 0.9793 - loss: 0.0630 - val_accuracy: 0.9804 - val_loss: 0.0567\n",
      "Epoch 23/50\n",
      "\u001b[1m1103/1103\u001b[0m \u001b[32m━━━━━━━━━━━━━━━━━━━━\u001b[0m\u001b[37m\u001b[0m \u001b[1m3s\u001b[0m 3ms/step - accuracy: 0.9793 - loss: 0.0616 - val_accuracy: 0.9806 - val_loss: 0.0567\n",
      "Epoch 24/50\n",
      "\u001b[1m1103/1103\u001b[0m \u001b[32m━━━━━━━━━━━━━━━━━━━━\u001b[0m\u001b[37m\u001b[0m \u001b[1m3s\u001b[0m 3ms/step - accuracy: 0.9804 - loss: 0.0603 - val_accuracy: 0.9806 - val_loss: 0.0561\n",
      "Epoch 25/50\n",
      "\u001b[1m1103/1103\u001b[0m \u001b[32m━━━━━━━━━━━━━━━━━━━━\u001b[0m\u001b[37m\u001b[0m \u001b[1m3s\u001b[0m 3ms/step - accuracy: 0.9805 - loss: 0.0594 - val_accuracy: 0.9802 - val_loss: 0.0575\n",
      "Epoch 26/50\n",
      "\u001b[1m1103/1103\u001b[0m \u001b[32m━━━━━━━━━━━━━━━━━━━━\u001b[0m\u001b[37m\u001b[0m \u001b[1m3s\u001b[0m 3ms/step - accuracy: 0.9805 - loss: 0.0584 - val_accuracy: 0.9826 - val_loss: 0.0522\n",
      "Epoch 27/50\n",
      "\u001b[1m1103/1103\u001b[0m \u001b[32m━━━━━━━━━━━━━━━━━━━━\u001b[0m\u001b[37m\u001b[0m \u001b[1m3s\u001b[0m 3ms/step - accuracy: 0.9807 - loss: 0.0570 - val_accuracy: 0.9834 - val_loss: 0.0523\n",
      "Epoch 28/50\n",
      "\u001b[1m1103/1103\u001b[0m \u001b[32m━━━━━━━━━━━━━━━━━━━━\u001b[0m\u001b[37m\u001b[0m \u001b[1m3s\u001b[0m 3ms/step - accuracy: 0.9813 - loss: 0.0558 - val_accuracy: 0.9837 - val_loss: 0.0507\n",
      "Epoch 29/50\n",
      "\u001b[1m1103/1103\u001b[0m \u001b[32m━━━━━━━━━━━━━━━━━━━━\u001b[0m\u001b[37m\u001b[0m \u001b[1m3s\u001b[0m 3ms/step - accuracy: 0.9818 - loss: 0.0547 - val_accuracy: 0.9838 - val_loss: 0.0509\n",
      "Epoch 30/50\n",
      "\u001b[1m1103/1103\u001b[0m \u001b[32m━━━━━━━━━━━━━━━━━━━━\u001b[0m\u001b[37m\u001b[0m \u001b[1m3s\u001b[0m 2ms/step - accuracy: 0.9817 - loss: 0.0538 - val_accuracy: 0.9823 - val_loss: 0.0524\n",
      "Epoch 31/50\n",
      "\u001b[1m1103/1103\u001b[0m \u001b[32m━━━━━━━━━━━━━━━━━━━━\u001b[0m\u001b[37m\u001b[0m \u001b[1m3s\u001b[0m 3ms/step - accuracy: 0.9822 - loss: 0.0530 - val_accuracy: 0.9841 - val_loss: 0.0483\n",
      "Epoch 32/50\n",
      "\u001b[1m1103/1103\u001b[0m \u001b[32m━━━━━━━━━━━━━━━━━━━━\u001b[0m\u001b[37m\u001b[0m \u001b[1m3s\u001b[0m 3ms/step - accuracy: 0.9825 - loss: 0.0524 - val_accuracy: 0.9851 - val_loss: 0.0472\n",
      "Epoch 33/50\n",
      "\u001b[1m1103/1103\u001b[0m \u001b[32m━━━━━━━━━━━━━━━━━━━━\u001b[0m\u001b[37m\u001b[0m \u001b[1m3s\u001b[0m 3ms/step - accuracy: 0.9828 - loss: 0.0511 - val_accuracy: 0.9842 - val_loss: 0.0485\n",
      "Epoch 34/50\n",
      "\u001b[1m1103/1103\u001b[0m \u001b[32m━━━━━━━━━━━━━━━━━━━━\u001b[0m\u001b[37m\u001b[0m \u001b[1m3s\u001b[0m 3ms/step - accuracy: 0.9833 - loss: 0.0505 - val_accuracy: 0.9850 - val_loss: 0.0464\n",
      "Epoch 35/50\n",
      "\u001b[1m1103/1103\u001b[0m \u001b[32m━━━━━━━━━━━━━━━━━━━━\u001b[0m\u001b[37m\u001b[0m \u001b[1m3s\u001b[0m 3ms/step - accuracy: 0.9836 - loss: 0.0497 - val_accuracy: 0.9853 - val_loss: 0.0465\n",
      "Epoch 36/50\n",
      "\u001b[1m1103/1103\u001b[0m \u001b[32m━━━━━━━━━━━━━━━━━━━━\u001b[0m\u001b[37m\u001b[0m \u001b[1m5s\u001b[0m 3ms/step - accuracy: 0.9838 - loss: 0.0488 - val_accuracy: 0.9842 - val_loss: 0.0462\n",
      "Epoch 37/50\n",
      "\u001b[1m1103/1103\u001b[0m \u001b[32m━━━━━━━━━━━━━━━━━━━━\u001b[0m\u001b[37m\u001b[0m \u001b[1m3s\u001b[0m 3ms/step - accuracy: 0.9839 - loss: 0.0481 - val_accuracy: 0.9843 - val_loss: 0.0464\n",
      "Epoch 38/50\n",
      "\u001b[1m1103/1103\u001b[0m \u001b[32m━━━━━━━━━━━━━━━━━━━━\u001b[0m\u001b[37m\u001b[0m \u001b[1m3s\u001b[0m 3ms/step - accuracy: 0.9839 - loss: 0.0477 - val_accuracy: 0.9862 - val_loss: 0.0434\n",
      "Epoch 39/50\n",
      "\u001b[1m1103/1103\u001b[0m \u001b[32m━━━━━━━━━━━━━━━━━━━━\u001b[0m\u001b[37m\u001b[0m \u001b[1m3s\u001b[0m 3ms/step - accuracy: 0.9845 - loss: 0.0472 - val_accuracy: 0.9858 - val_loss: 0.0446\n",
      "Epoch 40/50\n",
      "\u001b[1m1103/1103\u001b[0m \u001b[32m━━━━━━━━━━━━━━━━━━━━\u001b[0m\u001b[37m\u001b[0m \u001b[1m3s\u001b[0m 3ms/step - accuracy: 0.9840 - loss: 0.0463 - val_accuracy: 0.9862 - val_loss: 0.0440\n",
      "Epoch 41/50\n",
      "\u001b[1m1103/1103\u001b[0m \u001b[32m━━━━━━━━━━━━━━━━━━━━\u001b[0m\u001b[37m\u001b[0m \u001b[1m3s\u001b[0m 3ms/step - accuracy: 0.9849 - loss: 0.0459 - val_accuracy: 0.9860 - val_loss: 0.0424\n",
      "Epoch 42/50\n",
      "\u001b[1m1103/1103\u001b[0m \u001b[32m━━━━━━━━━━━━━━━━━━━━\u001b[0m\u001b[37m\u001b[0m \u001b[1m5s\u001b[0m 2ms/step - accuracy: 0.9845 - loss: 0.0452 - val_accuracy: 0.9854 - val_loss: 0.0439\n",
      "Epoch 43/50\n",
      "\u001b[1m1103/1103\u001b[0m \u001b[32m━━━━━━━━━━━━━━━━━━━━\u001b[0m\u001b[37m\u001b[0m \u001b[1m3s\u001b[0m 3ms/step - accuracy: 0.9850 - loss: 0.0446 - val_accuracy: 0.9851 - val_loss: 0.0454\n",
      "Epoch 44/50\n",
      "\u001b[1m1103/1103\u001b[0m \u001b[32m━━━━━━━━━━━━━━━━━━━━\u001b[0m\u001b[37m\u001b[0m \u001b[1m7s\u001b[0m 6ms/step - accuracy: 0.9854 - loss: 0.0444 - val_accuracy: 0.9872 - val_loss: 0.0423\n",
      "Epoch 45/50\n",
      "\u001b[1m1103/1103\u001b[0m \u001b[32m━━━━━━━━━━━━━━━━━━━━\u001b[0m\u001b[37m\u001b[0m \u001b[1m7s\u001b[0m 6ms/step - accuracy: 0.9855 - loss: 0.0439 - val_accuracy: 0.9865 - val_loss: 0.0407\n",
      "Epoch 46/50\n",
      "\u001b[1m1103/1103\u001b[0m \u001b[32m━━━━━━━━━━━━━━━━━━━━\u001b[0m\u001b[37m\u001b[0m \u001b[1m6s\u001b[0m 6ms/step - accuracy: 0.9855 - loss: 0.0434 - val_accuracy: 0.9872 - val_loss: 0.0410\n",
      "Epoch 47/50\n",
      "\u001b[1m1103/1103\u001b[0m \u001b[32m━━━━━━━━━━━━━━━━━━━━\u001b[0m\u001b[37m\u001b[0m \u001b[1m6s\u001b[0m 5ms/step - accuracy: 0.9854 - loss: 0.0430 - val_accuracy: 0.9859 - val_loss: 0.0417\n",
      "Epoch 48/50\n",
      "\u001b[1m1103/1103\u001b[0m \u001b[32m━━━━━━━━━━━━━━━━━━━━\u001b[0m\u001b[37m\u001b[0m \u001b[1m6s\u001b[0m 5ms/step - accuracy: 0.9856 - loss: 0.0423 - val_accuracy: 0.9863 - val_loss: 0.0420\n",
      "Epoch 49/50\n",
      "\u001b[1m1103/1103\u001b[0m \u001b[32m━━━━━━━━━━━━━━━━━━━━\u001b[0m\u001b[37m\u001b[0m \u001b[1m6s\u001b[0m 5ms/step - accuracy: 0.9861 - loss: 0.0419 - val_accuracy: 0.9871 - val_loss: 0.0399\n",
      "Epoch 50/50\n",
      "\u001b[1m1103/1103\u001b[0m \u001b[32m━━━━━━━━━━━━━━━━━━━━\u001b[0m\u001b[37m\u001b[0m \u001b[1m6s\u001b[0m 6ms/step - accuracy: 0.9862 - loss: 0.0413 - val_accuracy: 0.9876 - val_loss: 0.0385\n"
     ]
    }
   ],
   "source": [
    "#Train the model\n",
    "# We are storing the fit model in 'history' that will help in analysis later\n",
    "history = model.fit(X_train_prepared,y_train,epochs=50,verbose=1,validation_split=0.2)"
   ]
  },
  {
   "cell_type": "code",
   "execution_count": null,
   "id": "ff065792",
   "metadata": {},
   "outputs": [
    {
     "name": "stdout",
     "output_type": "stream",
     "text": [
      "[<Dense name=dense_11, built=True>, <Dense name=dense_12, built=True>, <Dense name=dense_13, built=True>, <Dense name=dense_14, built=True>]\n",
      "[array([[ 0.09142673,  0.935334  ,  0.2187672 , -0.11124503,  0.03852337,\n",
      "         0.69873464, -0.8133942 ,  0.9859067 ,  0.09491749,  0.7133425 ],\n",
      "       [-0.90256596,  0.29550362,  0.5935548 , -0.4566147 ,  1.0973489 ,\n",
      "         0.44980314, -0.9489303 ,  0.1230201 , -1.1120498 ,  0.94606316],\n",
      "       [ 1.927248  , -2.5151117 , -1.9333987 ,  1.1659706 , -1.8047533 ,\n",
      "        -1.9079517 ,  2.3116422 , -1.6005191 ,  2.1130712 , -2.184335  ],\n",
      "       [ 2.0750759 , -1.7983911 , -1.2033792 ,  1.881561  , -2.1315365 ,\n",
      "        -1.5863469 ,  1.4620112 , -1.2761034 ,  1.7275872 , -1.4170982 ],\n",
      "       [-0.8099009 ,  1.0070862 ,  0.4494078 , -0.88576156,  0.7634305 ,\n",
      "         1.1126934 , -0.8642439 ,  0.9525522 , -1.597825  ,  1.1267617 ],\n",
      "       [-0.9563218 ,  0.47870693,  1.4422956 , -1.0260409 ,  1.2681159 ,\n",
      "         0.25786954, -0.6294726 ,  0.84126586, -0.45048657,  0.4035224 ],\n",
      "       [ 2.4218981 , -1.6053969 , -2.113777  ,  2.215175  , -1.8938495 ,\n",
      "        -1.7705159 ,  1.8439723 , -2.6218915 ,  2.242283  , -1.0898665 ],\n",
      "       [ 0.93648833, -0.59193456, -1.305466  ,  0.9184611 , -0.9825337 ,\n",
      "        -1.006198  ,  1.2129952 , -1.1086156 ,  1.0488657 , -1.2223873 ],\n",
      "       [ 0.69963074, -1.4196926 , -1.4583699 ,  1.4934789 , -1.1828736 ,\n",
      "        -0.67375743,  1.4578384 , -1.730714  ,  1.3942391 , -1.322685  ],\n",
      "       [-0.5424704 ,  0.12152124,  0.51295847, -0.75334305,  0.07358652,\n",
      "         0.2571537 , -0.61039793,  0.7574376 ,  0.12243621,  0.11588857]],\n",
      "      dtype=float32), array([ 0.50056785, -0.55408597, -0.3989601 ,  0.31857726, -0.5740978 ,\n",
      "       -0.67598176,  0.58980465, -0.6931255 ,  0.28687945, -0.5123928 ],\n",
      "      dtype=float32)]\n"
     ]
    }
   ],
   "source": [
    "## The information about trained model is stored in \"layers\"\n",
    "print(model.layers)\n",
    "\n",
    "# getting weights of layer 2 (hidden layer 1)\n",
    "print(model.layers[1].get_weights())"
   ]
  },
  {
   "cell_type": "markdown",
   "id": "c1b6ff20",
   "metadata": {},
   "source": [
    "_Prepare Test data:_"
   ]
  },
  {
   "cell_type": "code",
   "execution_count": null,
   "id": "473d842c",
   "metadata": {},
   "outputs": [],
   "source": [
    "# history.history is a dict that stores data as shown below\n",
    "print(\"Keys:\",history.history.keys())"
   ]
  },
  {
   "cell_type": "markdown",
   "id": "9ba1d905",
   "metadata": {},
   "source": [
    "_Plot graphs:_"
   ]
  },
  {
   "cell_type": "code",
   "execution_count": 247,
   "id": "228285e6",
   "metadata": {},
   "outputs": [
    {
     "data": {
      "text/plain": [
       "<matplotlib.legend.Legend at 0x11d7ca2d950>"
      ]
     },
     "execution_count": 247,
     "metadata": {},
     "output_type": "execute_result"
    },
    {
     "data": {
      "image/png": "[encoded data removed]",
      "text/plain": [
       "<Figure size 500x400 with 1 Axes>"
      ]
     },
     "metadata": {},
     "output_type": "display_data"
    }
   ],
   "source": [
    "import matplotlib.pyplot as plt\n",
    "\n",
    "plt.figure(figsize=(5,4))\n",
    "plt.plot(history.history['accuracy'],label='accuracy')\n",
    "plt.plot(history.history['val_accuracy'], label='validation accuracy')\n",
    "plt.xlabel(\"epoch\")\n",
    "plt.legend()"
   ]
  },
  {
   "cell_type": "code",
   "execution_count": 248,
   "id": "3b999236",
   "metadata": {},
   "outputs": [
    {
     "data": {
      "text/plain": [
       "<matplotlib.legend.Legend at 0x11d7bc31f90>"
      ]
     },
     "execution_count": 248,
     "metadata": {},
     "output_type": "execute_result"
    },
    {
     "data": {
      "image/png": "[encoded data removed]",
      "text/plain": [
       "<Figure size 500x400 with 1 Axes>"
      ]
     },
     "metadata": {},
     "output_type": "display_data"
    }
   ],
   "source": [
    "plt.figure(figsize=(5,4))\n",
    "plt.plot(history.history['val_loss'], label='validation loss')\n",
    "plt.plot(history.history['loss'], label='loss')\n",
    "plt.xlabel(\"epoch\")\n",
    "plt.legend()"
   ]
  },
  {
   "cell_type": "markdown",
   "id": "ce4936e8",
   "metadata": {},
   "source": [
    "_Make predictions:_"
   ]
  },
  {
   "cell_type": "code",
   "execution_count": 251,
   "id": "5ccd4661",
   "metadata": {},
   "outputs": [],
   "source": [
    "# Preparing test data for evaluations\n",
    "test_data = pd.read_csv(r\"C:\\Users\\Arun\\Documents\\Documents\\Deep Learning\\1_Introduction_To_ANNs\\datasets\\customer_churn\\customer_churn_dataset-testing-master.csv\")\n",
    "\n",
    "X_test = test_data.iloc[:,1:-1]\n",
    "y_test = test_data['Churn']\n",
    "\n",
    "#I dont want to test on all test instances\n",
    "x_test, x_remove, y_test, y_remove = train_test_split(X_test, y_test, train_size=0.1,stratify=y_test)\n",
    "\n",
    "X_test_prepped = prep_pipe.transform(x_test)"
   ]
  },
  {
   "cell_type": "code",
   "execution_count": 252,
   "id": "a2cf3e51",
   "metadata": {},
   "outputs": [
    {
     "name": "stdout",
     "output_type": "stream",
     "text": [
      "\u001b[1m202/202\u001b[0m \u001b[32m━━━━━━━━━━━━━━━━━━━━\u001b[0m\u001b[37m\u001b[0m \u001b[1m0s\u001b[0m 1ms/step\n"
     ]
    },
    {
     "data": {
      "text/plain": [
       "array([[0.9874932 ],\n",
       "       [0.99999994],\n",
       "       [0.99999994],\n",
       "       ...,\n",
       "       [0.9999989 ],\n",
       "       [0.99999994],\n",
       "       [0.99999994]], shape=(6437, 1), dtype=float32)"
      ]
     },
     "execution_count": 252,
     "metadata": {},
     "output_type": "execute_result"
    }
   ],
   "source": [
    "y_pred_prob = model.predict(X_test_prepped)\n",
    "y_pred_prob"
   ]
  },
  {
   "cell_type": "markdown",
   "id": "6bb69863",
   "metadata": {},
   "source": [
    "\n",
    "Since we used 'sigmoid' activation function the output is 'probability'.   \n",
    "Make a function to get binary output for binary classification\n"
   ]
  },
  {
   "cell_type": "code",
   "execution_count": 253,
   "id": "1cc3df1f",
   "metadata": {},
   "outputs": [
    {
     "data": {
      "text/plain": [
       "(array([0, 1]), array([ 289, 6148]))"
      ]
     },
     "execution_count": 253,
     "metadata": {},
     "output_type": "execute_result"
    }
   ],
   "source": [
    "y_pred = np.where(y_pred_prob>0.5, 1,0)\n",
    "np.unique(y_pred,return_counts=True)"
   ]
  },
  {
   "cell_type": "markdown",
   "id": "47e0d97c",
   "metadata": {},
   "source": [
    "_Check accuracy:_"
   ]
  },
  {
   "cell_type": "code",
   "execution_count": 254,
   "id": "372b9441",
   "metadata": {},
   "outputs": [
    {
     "data": {
      "text/plain": [
       "0.5142146962870903"
      ]
     },
     "execution_count": 254,
     "metadata": {},
     "output_type": "execute_result"
    }
   ],
   "source": [
    "from sklearn.metrics import accuracy_score\n",
    "accuracy_score(y_test,y_pred)"
   ]
  },
  {
   "cell_type": "markdown",
   "id": "5ddf4713",
   "metadata": {},
   "source": [
    "# I GIVE UP, THE ACCURACY IS NOT INCREASING\n",
    "# I AM DOING SOMETHING WRONG HERE, I WILL CHECK IT OUT LATER \n",
    "# DAMNNNNNNNNNNNNN BHAI MERTE NO HERA"
   ]
  }
 ],
 "metadata": {
  "kernelspec": {
   "display_name": "env",
   "language": "python",
   "name": "python3"
  },
  "language_info": {
   "codemirror_mode": {
    "name": "ipython",
    "version": 3
   },
   "file_extension": ".py",
   "mimetype": "text/x-python",
   "name": "python",
   "nbconvert_exporter": "python",
   "pygments_lexer": "ipython3",
   "version": "3.13.1"
  }
 },
 "nbformat": 4,
 "nbformat_minor": 5
}
